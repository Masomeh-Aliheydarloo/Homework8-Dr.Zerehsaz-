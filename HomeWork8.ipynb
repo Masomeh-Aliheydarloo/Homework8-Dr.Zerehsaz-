{
  "nbformat": 4,
  "nbformat_minor": 0,
  "metadata": {
    "colab": {
      "name": "HomeWork8-1.ipynb",
      "provenance": [],
      "collapsed_sections": []
    },
    "kernelspec": {
      "name": "python3",
      "display_name": "Python 3"
    }
  },
  "cells": [
    {
      "cell_type": "markdown",
      "metadata": {
        "id": "gfceRYoET8mJ"
      },
      "source": [
        "HomeWork8.part 1\n",
        "\n",
        "Author: Masomeh Aliheydarloo\n"
      ]
    },
    {
      "cell_type": "markdown",
      "metadata": {
        "id": "cv_30uZxqQey"
      },
      "source": [
        "## Loading the data and other imports:"
      ]
    },
    {
      "cell_type": "code",
      "metadata": {
        "id": "loClM54MqqWl"
      },
      "source": [
        "import pandas as pd\n",
        "import numpy as np\n",
        "import matplotlib.pyplot as plt\n",
        "from sklearn.datasets import load_digits\n",
        "from sklearn.model_selection import GridSearchCV\n",
        "from sklearn.model_selection import train_test_split"
      ],
      "execution_count": null,
      "outputs": []
    },
    {
      "cell_type": "code",
      "metadata": {
        "id": "X3M4Hz87PLbB"
      },
      "source": [
        "digits = load_digits(return_X_y =True)\n",
        "X=digits[0]\n",
        "y=digits[1]"
      ],
      "execution_count": null,
      "outputs": []
    },
    {
      "cell_type": "code",
      "metadata": {
        "id": "NEk_RY9c4Tsp",
        "outputId": "b0bb69f9-f366-437f-fec6-5921fbe0e2e3",
        "colab": {
          "base_uri": "https://localhost:8080/",
          "height": 34
        }
      },
      "source": [
        "X.shape   #we have 64 features"
      ],
      "execution_count": null,
      "outputs": [
        {
          "output_type": "execute_result",
          "data": {
            "text/plain": [
              "(1797, 64)"
            ]
          },
          "metadata": {
            "tags": []
          },
          "execution_count": 3
        }
      ]
    },
    {
      "cell_type": "code",
      "metadata": {
        "id": "AEGrJytq4Vym",
        "outputId": "b9b43cf3-97b9-4cb5-e4c4-3c706e0dd954",
        "colab": {
          "base_uri": "https://localhost:8080/",
          "height": 34
        }
      },
      "source": [
        "y.shape"
      ],
      "execution_count": null,
      "outputs": [
        {
          "output_type": "execute_result",
          "data": {
            "text/plain": [
              "(1797,)"
            ]
          },
          "metadata": {
            "tags": []
          },
          "execution_count": 25
        }
      ]
    },
    {
      "cell_type": "code",
      "metadata": {
        "id": "S7nrP4-952WU",
        "outputId": "c637e31b-e7e4-48ea-9a48-9037a1900be6",
        "colab": {
          "base_uri": "https://localhost:8080/",
          "height": 34
        }
      },
      "source": [
        "y"
      ],
      "execution_count": null,
      "outputs": [
        {
          "output_type": "execute_result",
          "data": {
            "text/plain": [
              "array([0, 1, 2, ..., 8, 9, 8])"
            ]
          },
          "metadata": {
            "tags": []
          },
          "execution_count": 13
        }
      ]
    },
    {
      "cell_type": "code",
      "metadata": {
        "id": "bsToYkNrP0Jq",
        "outputId": "0aadf64f-32d7-44eb-f4ea-67bc37b5e28b",
        "colab": {
          "base_uri": "https://localhost:8080/",
          "height": 282
        }
      },
      "source": [
        "plt.imshow(X[63,:].reshape(8,8),cmap='gray') "
      ],
      "execution_count": null,
      "outputs": [
        {
          "output_type": "execute_result",
          "data": {
            "text/plain": [
              "<matplotlib.image.AxesImage at 0x7f970aab0748>"
            ]
          },
          "metadata": {
            "tags": []
          },
          "execution_count": 27
        },
        {
          "output_type": "display_data",
          "data": {
            "image/png": "[encoded data removed]",
            "text/plain": [
              "<Figure size 432x288 with 1 Axes>"
            ]
          },
          "metadata": {
            "tags": [],
            "needs_background": "light"
          }
        }
      ]
    },
    {
      "cell_type": "markdown",
      "metadata": {
        "id": "BuhOCCeeMvcx"
      },
      "source": [
        "## Train/Test Split"
      ]
    },
    {
      "cell_type": "code",
      "metadata": {
        "id": "qxpw7u6XwjtO"
      },
      "source": [
        "X_train, X_test, y_train, y_test = train_test_split(X, y, test_size=0.2)"
      ],
      "execution_count": null,
      "outputs": []
    },
    {
      "cell_type": "markdown",
      "metadata": {
        "id": "M-e1dsB1L-gH"
      },
      "source": [
        "# 1)a,b:Crossvalidate the hyperparameters 𝑐, γ, degree of polynomial 𝑑 and three kernels (linear, rbf and poly) and find the best setting."
      ]
    },
    {
      "cell_type": "code",
      "metadata": {
        "id": "faqpzCr3wdYO"
      },
      "source": [
        "from sklearn.preprocessing import StandardScaler\n",
        "from sklearn.svm import SVC"
      ],
      "execution_count": null,
      "outputs": []
    },
    {
      "cell_type": "code",
      "metadata": {
        "id": "MZoJ2UmBWotr"
      },
      "source": [
        "from sklearn.pipeline import Pipeline\n",
        "pipe = Pipeline([(\"scaler\", StandardScaler()), (\"svm\", SVC())])"
      ],
      "execution_count": null,
      "outputs": []
    },
    {
      "cell_type": "code",
      "metadata": {
        "id": "3-XXMyGsXrZT"
      },
      "source": [
        "#Create hyperparameters space\n",
        "param_grid = [{\n",
        "'svm__kernel': ['linear','rbf','poly'],\n",
        "'svm__C': np.arange(0.01,11,1),\n",
        "'svm__gamma': np.arange(0.001,0.01,0.001),\n",
        "'svm__degree': [1, 2, 3, 4]}]"
      ],
      "execution_count": null,
      "outputs": []
    },
    {
      "cell_type": "code",
      "metadata": {
        "id": "mh8QRYIoWrN8",
        "outputId": "88acdad4-e28b-4f29-d3eb-aab8b0b49043",
        "colab": {
          "base_uri": "https://localhost:8080/",
          "height": 187
        }
      },
      "source": [
        "pipe.fit(X_train, y_train)"
      ],
      "execution_count": null,
      "outputs": [
        {
          "output_type": "execute_result",
          "data": {
            "text/plain": [
              "Pipeline(memory=None,\n",
              "         steps=[('scaler',\n",
              "                 StandardScaler(copy=True, with_mean=True, with_std=True)),\n",
              "                ('svm',\n",
              "                 SVC(C=1.0, break_ties=False, cache_size=200, class_weight=None,\n",
              "                     coef0=0.0, decision_function_shape='ovr', degree=3,\n",
              "                     gamma='scale', kernel='rbf', max_iter=-1,\n",
              "                     probability=False, random_state=None, shrinking=True,\n",
              "                     tol=0.001, verbose=False))],\n",
              "         verbose=False)"
            ]
          },
          "metadata": {
            "tags": []
          },
          "execution_count": 50
        }
      ]
    },
    {
      "cell_type": "code",
      "metadata": {
        "id": "gnqpDyvSXLxM",
        "outputId": "e1738b6b-3012-482b-bab9-17f0c904beb6",
        "colab": {
          "base_uri": "https://localhost:8080/",
          "height": 408
        }
      },
      "source": [
        "grid_svm = GridSearchCV(estimator=pipe, param_grid=param_grid, cv=10)\n",
        "grid_svm.fit(X_train, y_train)"
      ],
      "execution_count": null,
      "outputs": [
        {
          "output_type": "execute_result",
          "data": {
            "text/plain": [
              "GridSearchCV(cv=10, error_score=nan,\n",
              "             estimator=Pipeline(memory=None,\n",
              "                                steps=[('scaler',\n",
              "                                        StandardScaler(copy=True,\n",
              "                                                       with_mean=True,\n",
              "                                                       with_std=True)),\n",
              "                                       ('svm',\n",
              "                                        SVC(C=1.0, break_ties=False,\n",
              "                                            cache_size=200, class_weight=None,\n",
              "                                            coef0=0.0,\n",
              "                                            decision_function_shape='ovr',\n",
              "                                            degree=3, gamma='scale',\n",
              "                                            kernel='rbf', max_iter=-1,\n",
              "                                            probability=False,\n",
              "                                            random_state=None, shrinking=True,\n",
              "                                            tol=0...\n",
              "             param_grid=[{'svm__C': array([1.000e-02, 1.010e+00, 2.010e+00, 3.010e+00, 4.010e+00, 5.010e+00,\n",
              "       6.010e+00, 7.010e+00, 8.010e+00, 9.010e+00, 1.001e+01]),\n",
              "                          'svm__degree': [1, 2, 3, 4],\n",
              "                          'svm__gamma': array([0.001, 0.002, 0.003, 0.004, 0.005, 0.006, 0.007, 0.008, 0.009]),\n",
              "                          'svm__kernel': ['linear', 'rbf', 'poly']}],\n",
              "             pre_dispatch='2*n_jobs', refit=True, return_train_score=False,\n",
              "             scoring=None, verbose=0)"
            ]
          },
          "metadata": {
            "tags": []
          },
          "execution_count": 51
        }
      ]
    },
    {
      "cell_type": "markdown",
      "metadata": {
        "id": "fX5eCu6pM96t"
      },
      "source": [
        "### Finding the best hyperparameters:"
      ]
    },
    {
      "cell_type": "code",
      "metadata": {
        "id": "638qKq-xYgTg",
        "outputId": "3cd5bfb6-5d02-4c86-aaca-f658ac90e38b",
        "colab": {
          "base_uri": "https://localhost:8080/",
          "height": 34
        }
      },
      "source": [
        "print(\"Best parameters: {}\".format(grid_svm.best_params_))"
      ],
      "execution_count": null,
      "outputs": [
        {
          "output_type": "stream",
          "text": [
            "Best parameters: {'svm__C': 9.01, 'svm__degree': 2, 'svm__gamma': 0.009000000000000001, 'svm__kernel': 'poly'}\n"
          ],
          "name": "stdout"
        }
      ]
    },
    {
      "cell_type": "markdown",
      "metadata": {
        "id": "iLiR1yxDu7b6"
      },
      "source": [
        "### Evaluating cross validation accuracy:"
      ]
    },
    {
      "cell_type": "code",
      "metadata": {
        "id": "7ZxAlkMru-sM",
        "outputId": "186f4f7a-bba7-4aa6-f1c3-627880dd2b16",
        "colab": {
          "base_uri": "https://localhost:8080/",
          "height": 51
        }
      },
      "source": [
        "print(\"Best cross-validation accuracy: {:.2f}\".format(grid_svm.best_score_))\n",
        "print(\"Test set score: {:.2f}\".format(grid_svm.score(X_test, y_test)))"
      ],
      "execution_count": null,
      "outputs": [
        {
          "output_type": "stream",
          "text": [
            "Best cross-validation accuracy: 0.99\n",
            "Test set score: 0.97\n"
          ],
          "name": "stdout"
        }
      ]
    },
    {
      "cell_type": "code",
      "metadata": {
        "id": "kUtw_JDAw5ue",
        "outputId": "08e3b4bd-d01c-432c-c64d-5c74c44c52fe",
        "colab": {
          "base_uri": "https://localhost:8080/",
          "height": 848
        }
      },
      "source": [
        "import pandas as pd\n",
        "# convert to DataFrame\n",
        "results = pd.DataFrame(grid_svm.cv_results_)\n",
        "# show the first 5 rows\n",
        "display(results.T)"
      ],
      "execution_count": null,
      "outputs": [
        {
          "output_type": "display_data",
          "data": {
            "text/html": [
              "<div>\n",
              "<style scoped>\n",
              "    .dataframe tbody tr th:only-of-type {\n",
              "        vertical-align: middle;\n",
              "    }\n",
              "\n",
              "    .dataframe tbody tr th {\n",
              "        vertical-align: top;\n",
              "    }\n",
              "\n",
              "    .dataframe thead th {\n",
              "        text-align: right;\n",
              "    }\n",
              "</style>\n",
              "<table border=\"1\" class=\"dataframe\">\n",
              "  <thead>\n",
              "    <tr style=\"text-align: right;\">\n",
              "      <th></th>\n",
              "      <th>0</th>\n",
              "      <th>1</th>\n",
              "      <th>2</th>\n",
              "      <th>3</th>\n",
              "      <th>4</th>\n",
              "      <th>5</th>\n",
              "      <th>6</th>\n",
              "      <th>7</th>\n",
              "      <th>8</th>\n",
              "      <th>9</th>\n",
              "      <th>10</th>\n",
              "      <th>11</th>\n",
              "      <th>12</th>\n",
              "      <th>13</th>\n",
              "      <th>14</th>\n",
              "      <th>15</th>\n",
              "      <th>16</th>\n",
              "      <th>17</th>\n",
              "      <th>18</th>\n",
              "      <th>19</th>\n",
              "      <th>20</th>\n",
              "      <th>21</th>\n",
              "      <th>22</th>\n",
              "      <th>23</th>\n",
              "      <th>24</th>\n",
              "      <th>25</th>\n",
              "      <th>26</th>\n",
              "      <th>27</th>\n",
              "      <th>28</th>\n",
              "      <th>29</th>\n",
              "      <th>30</th>\n",
              "      <th>31</th>\n",
              "      <th>32</th>\n",
              "      <th>33</th>\n",
              "      <th>34</th>\n",
              "      <th>35</th>\n",
              "      <th>36</th>\n",
              "      <th>37</th>\n",
              "      <th>38</th>\n",
              "      <th>39</th>\n",
              "      <th>...</th>\n",
              "      <th>1148</th>\n",
              "      <th>1149</th>\n",
              "      <th>1150</th>\n",
              "      <th>1151</th>\n",
              "      <th>1152</th>\n",
              "      <th>1153</th>\n",
              "      <th>1154</th>\n",
              "      <th>1155</th>\n",
              "      <th>1156</th>\n",
              "      <th>1157</th>\n",
              "      <th>1158</th>\n",
              "      <th>1159</th>\n",
              "      <th>1160</th>\n",
              "      <th>1161</th>\n",
              "      <th>1162</th>\n",
              "      <th>1163</th>\n",
              "      <th>1164</th>\n",
              "      <th>1165</th>\n",
              "      <th>1166</th>\n",
              "      <th>1167</th>\n",
              "      <th>1168</th>\n",
              "      <th>1169</th>\n",
              "      <th>1170</th>\n",
              "      <th>1171</th>\n",
              "      <th>1172</th>\n",
              "      <th>1173</th>\n",
              "      <th>1174</th>\n",
              "      <th>1175</th>\n",
              "      <th>1176</th>\n",
              "      <th>1177</th>\n",
              "      <th>1178</th>\n",
              "      <th>1179</th>\n",
              "      <th>1180</th>\n",
              "      <th>1181</th>\n",
              "      <th>1182</th>\n",
              "      <th>1183</th>\n",
              "      <th>1184</th>\n",
              "      <th>1185</th>\n",
              "      <th>1186</th>\n",
              "      <th>1187</th>\n",
              "    </tr>\n",
              "  </thead>\n",
              "  <tbody>\n",
              "    <tr>\n",
              "      <th>mean_fit_time</th>\n",
              "      <td>0.0561727</td>\n",
              "      <td>0.399772</td>\n",
              "      <td>0.257054</td>\n",
              "      <td>0.0562116</td>\n",
              "      <td>0.400213</td>\n",
              "      <td>0.255828</td>\n",
              "      <td>0.0555783</td>\n",
              "      <td>0.398617</td>\n",
              "      <td>0.256307</td>\n",
              "      <td>0.0548735</td>\n",
              "      <td>0.399603</td>\n",
              "      <td>0.254539</td>\n",
              "      <td>0.0540719</td>\n",
              "      <td>0.399742</td>\n",
              "      <td>0.257087</td>\n",
              "      <td>0.0550196</td>\n",
              "      <td>0.39936</td>\n",
              "      <td>0.256501</td>\n",
              "      <td>0.0541569</td>\n",
              "      <td>0.401666</td>\n",
              "      <td>0.256147</td>\n",
              "      <td>0.0546273</td>\n",
              "      <td>0.396375</td>\n",
              "      <td>0.255611</td>\n",
              "      <td>0.054423</td>\n",
              "      <td>0.397724</td>\n",
              "      <td>0.25507</td>\n",
              "      <td>0.0547411</td>\n",
              "      <td>0.398792</td>\n",
              "      <td>0.260272</td>\n",
              "      <td>0.0543241</td>\n",
              "      <td>0.401479</td>\n",
              "      <td>0.258726</td>\n",
              "      <td>0.0542976</td>\n",
              "      <td>0.39779</td>\n",
              "      <td>0.257739</td>\n",
              "      <td>0.0559357</td>\n",
              "      <td>0.398148</td>\n",
              "      <td>0.257601</td>\n",
              "      <td>0.054325</td>\n",
              "      <td>...</td>\n",
              "      <td>0.172408</td>\n",
              "      <td>0.0430879</td>\n",
              "      <td>0.0792204</td>\n",
              "      <td>0.146774</td>\n",
              "      <td>0.0420426</td>\n",
              "      <td>0.0805649</td>\n",
              "      <td>0.130216</td>\n",
              "      <td>0.042816</td>\n",
              "      <td>0.085942</td>\n",
              "      <td>0.119864</td>\n",
              "      <td>0.0422436</td>\n",
              "      <td>0.0893385</td>\n",
              "      <td>0.113726</td>\n",
              "      <td>0.043056</td>\n",
              "      <td>0.0752125</td>\n",
              "      <td>0.267449</td>\n",
              "      <td>0.0423818</td>\n",
              "      <td>0.0692878</td>\n",
              "      <td>0.26478</td>\n",
              "      <td>0.0421711</td>\n",
              "      <td>0.06961</td>\n",
              "      <td>0.26297</td>\n",
              "      <td>0.0425251</td>\n",
              "      <td>0.0708108</td>\n",
              "      <td>0.257469</td>\n",
              "      <td>0.0445818</td>\n",
              "      <td>0.0761323</td>\n",
              "      <td>0.24677</td>\n",
              "      <td>0.0428645</td>\n",
              "      <td>0.0787669</td>\n",
              "      <td>0.231788</td>\n",
              "      <td>0.0429285</td>\n",
              "      <td>0.0807437</td>\n",
              "      <td>0.209531</td>\n",
              "      <td>0.0435469</td>\n",
              "      <td>0.0843016</td>\n",
              "      <td>0.191777</td>\n",
              "      <td>0.0432267</td>\n",
              "      <td>0.0888876</td>\n",
              "      <td>0.173975</td>\n",
              "    </tr>\n",
              "    <tr>\n",
              "      <th>std_fit_time</th>\n",
              "      <td>0.00391615</td>\n",
              "      <td>0.00539902</td>\n",
              "      <td>0.00494142</td>\n",
              "      <td>0.00176063</td>\n",
              "      <td>0.00570735</td>\n",
              "      <td>0.00372602</td>\n",
              "      <td>0.00368213</td>\n",
              "      <td>0.00428692</td>\n",
              "      <td>0.00364716</td>\n",
              "      <td>0.00150614</td>\n",
              "      <td>0.00406109</td>\n",
              "      <td>0.00199945</td>\n",
              "      <td>0.000737963</td>\n",
              "      <td>0.00299188</td>\n",
              "      <td>0.00555913</td>\n",
              "      <td>0.00101874</td>\n",
              "      <td>0.00359405</td>\n",
              "      <td>0.00244109</td>\n",
              "      <td>0.00081513</td>\n",
              "      <td>0.00429542</td>\n",
              "      <td>0.00232847</td>\n",
              "      <td>0.00168365</td>\n",
              "      <td>0.00175702</td>\n",
              "      <td>0.00582142</td>\n",
              "      <td>0.000506612</td>\n",
              "      <td>0.00348137</td>\n",
              "      <td>0.00283169</td>\n",
              "      <td>0.00150697</td>\n",
              "      <td>0.00505429</td>\n",
              "      <td>0.00440346</td>\n",
              "      <td>0.00061166</td>\n",
              "      <td>0.00409886</td>\n",
              "      <td>0.00372372</td>\n",
              "      <td>0.00108787</td>\n",
              "      <td>0.00346518</td>\n",
              "      <td>0.00437418</td>\n",
              "      <td>0.00294302</td>\n",
              "      <td>0.00282003</td>\n",
              "      <td>0.00239218</td>\n",
              "      <td>0.000559813</td>\n",
              "      <td>...</td>\n",
              "      <td>0.00373771</td>\n",
              "      <td>0.00153907</td>\n",
              "      <td>0.00397879</td>\n",
              "      <td>0.00305745</td>\n",
              "      <td>0.00129259</td>\n",
              "      <td>0.00119528</td>\n",
              "      <td>0.00282494</td>\n",
              "      <td>0.00116201</td>\n",
              "      <td>0.00208363</td>\n",
              "      <td>0.00200204</td>\n",
              "      <td>0.00123311</td>\n",
              "      <td>0.00281421</td>\n",
              "      <td>0.00280451</td>\n",
              "      <td>0.00262318</td>\n",
              "      <td>0.00325998</td>\n",
              "      <td>0.00556553</td>\n",
              "      <td>0.00189108</td>\n",
              "      <td>0.00216836</td>\n",
              "      <td>0.00425543</td>\n",
              "      <td>0.000991059</td>\n",
              "      <td>0.00131641</td>\n",
              "      <td>0.00574804</td>\n",
              "      <td>0.00136546</td>\n",
              "      <td>0.00159929</td>\n",
              "      <td>0.00543478</td>\n",
              "      <td>0.00138332</td>\n",
              "      <td>0.00159238</td>\n",
              "      <td>0.00269927</td>\n",
              "      <td>0.00164673</td>\n",
              "      <td>0.00333935</td>\n",
              "      <td>0.00533578</td>\n",
              "      <td>0.00175702</td>\n",
              "      <td>0.0013145</td>\n",
              "      <td>0.0017147</td>\n",
              "      <td>0.00190313</td>\n",
              "      <td>0.00144775</td>\n",
              "      <td>0.00357391</td>\n",
              "      <td>0.00159846</td>\n",
              "      <td>0.00257371</td>\n",
              "      <td>0.00268943</td>\n",
              "    </tr>\n",
              "    <tr>\n",
              "      <th>mean_score_time</th>\n",
              "      <td>0.00866284</td>\n",
              "      <td>0.0250184</td>\n",
              "      <td>0.0165103</td>\n",
              "      <td>0.00885739</td>\n",
              "      <td>0.0243483</td>\n",
              "      <td>0.0166181</td>\n",
              "      <td>0.00852191</td>\n",
              "      <td>0.0248685</td>\n",
              "      <td>0.0165112</td>\n",
              "      <td>0.0087615</td>\n",
              "      <td>0.0251109</td>\n",
              "      <td>0.0169522</td>\n",
              "      <td>0.00857356</td>\n",
              "      <td>0.0244889</td>\n",
              "      <td>0.0167706</td>\n",
              "      <td>0.00895715</td>\n",
              "      <td>0.0247996</td>\n",
              "      <td>0.0165726</td>\n",
              "      <td>0.00849469</td>\n",
              "      <td>0.0246631</td>\n",
              "      <td>0.0166756</td>\n",
              "      <td>0.00867295</td>\n",
              "      <td>0.0243336</td>\n",
              "      <td>0.0165715</td>\n",
              "      <td>0.00867546</td>\n",
              "      <td>0.0243788</td>\n",
              "      <td>0.0165304</td>\n",
              "      <td>0.00853207</td>\n",
              "      <td>0.0245759</td>\n",
              "      <td>0.0168569</td>\n",
              "      <td>0.00862591</td>\n",
              "      <td>0.0253029</td>\n",
              "      <td>0.0170025</td>\n",
              "      <td>0.00878379</td>\n",
              "      <td>0.024502</td>\n",
              "      <td>0.0166778</td>\n",
              "      <td>0.00871549</td>\n",
              "      <td>0.0247219</td>\n",
              "      <td>0.0168501</td>\n",
              "      <td>0.00892305</td>\n",
              "      <td>...</td>\n",
              "      <td>0.0137543</td>\n",
              "      <td>0.00585229</td>\n",
              "      <td>0.0108791</td>\n",
              "      <td>0.0121794</td>\n",
              "      <td>0.00565326</td>\n",
              "      <td>0.0110287</td>\n",
              "      <td>0.0109821</td>\n",
              "      <td>0.00579171</td>\n",
              "      <td>0.0115068</td>\n",
              "      <td>0.0101076</td>\n",
              "      <td>0.00584342</td>\n",
              "      <td>0.0118832</td>\n",
              "      <td>0.00947771</td>\n",
              "      <td>0.00578444</td>\n",
              "      <td>0.0113198</td>\n",
              "      <td>0.0174916</td>\n",
              "      <td>0.00559125</td>\n",
              "      <td>0.0103624</td>\n",
              "      <td>0.0177339</td>\n",
              "      <td>0.00568821</td>\n",
              "      <td>0.0100914</td>\n",
              "      <td>0.0171547</td>\n",
              "      <td>0.00570183</td>\n",
              "      <td>0.0102723</td>\n",
              "      <td>0.0165608</td>\n",
              "      <td>0.00585687</td>\n",
              "      <td>0.011304</td>\n",
              "      <td>0.0162071</td>\n",
              "      <td>0.00579245</td>\n",
              "      <td>0.0110358</td>\n",
              "      <td>0.0156665</td>\n",
              "      <td>0.00570025</td>\n",
              "      <td>0.0113472</td>\n",
              "      <td>0.0149314</td>\n",
              "      <td>0.00571084</td>\n",
              "      <td>0.0112994</td>\n",
              "      <td>0.0140834</td>\n",
              "      <td>0.00570121</td>\n",
              "      <td>0.0116063</td>\n",
              "      <td>0.0128753</td>\n",
              "    </tr>\n",
              "    <tr>\n",
              "      <th>std_score_time</th>\n",
              "      <td>0.000148148</td>\n",
              "      <td>0.0012964</td>\n",
              "      <td>0.000166709</td>\n",
              "      <td>0.00028083</td>\n",
              "      <td>0.000240014</td>\n",
              "      <td>0.000196161</td>\n",
              "      <td>7.45171e-05</td>\n",
              "      <td>0.000731119</td>\n",
              "      <td>7.54143e-05</td>\n",
              "      <td>0.000325423</td>\n",
              "      <td>0.00146332</td>\n",
              "      <td>0.00147557</td>\n",
              "      <td>0.000241328</td>\n",
              "      <td>0.000381911</td>\n",
              "      <td>0.000915946</td>\n",
              "      <td>0.00103327</td>\n",
              "      <td>0.000782303</td>\n",
              "      <td>0.000203973</td>\n",
              "      <td>5.44726e-05</td>\n",
              "      <td>0.000227237</td>\n",
              "      <td>0.000375138</td>\n",
              "      <td>0.000215405</td>\n",
              "      <td>0.000225377</td>\n",
              "      <td>0.000336464</td>\n",
              "      <td>0.000350247</td>\n",
              "      <td>0.000238274</td>\n",
              "      <td>0.000178786</td>\n",
              "      <td>0.000121689</td>\n",
              "      <td>0.000437618</td>\n",
              "      <td>0.000294847</td>\n",
              "      <td>0.000152828</td>\n",
              "      <td>0.00243978</td>\n",
              "      <td>0.00039143</td>\n",
              "      <td>0.000780222</td>\n",
              "      <td>0.000397461</td>\n",
              "      <td>0.000198407</td>\n",
              "      <td>0.000761721</td>\n",
              "      <td>0.000913229</td>\n",
              "      <td>0.00032495</td>\n",
              "      <td>0.00110914</td>\n",
              "      <td>...</td>\n",
              "      <td>0.000481037</td>\n",
              "      <td>0.000383934</td>\n",
              "      <td>0.000375229</td>\n",
              "      <td>0.000443006</td>\n",
              "      <td>0.000156201</td>\n",
              "      <td>0.000195394</td>\n",
              "      <td>0.00025672</td>\n",
              "      <td>0.000307489</td>\n",
              "      <td>0.000531441</td>\n",
              "      <td>0.000391273</td>\n",
              "      <td>0.000448456</td>\n",
              "      <td>0.000300009</td>\n",
              "      <td>0.000340991</td>\n",
              "      <td>0.000324687</td>\n",
              "      <td>0.000171631</td>\n",
              "      <td>0.000573741</td>\n",
              "      <td>0.000117398</td>\n",
              "      <td>0.00027937</td>\n",
              "      <td>0.00123148</td>\n",
              "      <td>0.000237161</td>\n",
              "      <td>0.000284934</td>\n",
              "      <td>0.000775867</td>\n",
              "      <td>0.000175936</td>\n",
              "      <td>0.000265103</td>\n",
              "      <td>0.000167707</td>\n",
              "      <td>0.000329816</td>\n",
              "      <td>0.00112342</td>\n",
              "      <td>0.000297827</td>\n",
              "      <td>0.000317805</td>\n",
              "      <td>0.000476495</td>\n",
              "      <td>0.000488143</td>\n",
              "      <td>0.000244018</td>\n",
              "      <td>0.000288511</td>\n",
              "      <td>0.000478288</td>\n",
              "      <td>0.000159009</td>\n",
              "      <td>0.000198047</td>\n",
              "      <td>0.00089048</td>\n",
              "      <td>0.00023143</td>\n",
              "      <td>0.000221204</td>\n",
              "      <td>0.000598597</td>\n",
              "    </tr>\n",
              "    <tr>\n",
              "      <th>param_svm__C</th>\n",
              "      <td>0.01</td>\n",
              "      <td>0.01</td>\n",
              "      <td>0.01</td>\n",
              "      <td>0.01</td>\n",
              "      <td>0.01</td>\n",
              "      <td>0.01</td>\n",
              "      <td>0.01</td>\n",
              "      <td>0.01</td>\n",
              "      <td>0.01</td>\n",
              "      <td>0.01</td>\n",
              "      <td>0.01</td>\n",
              "      <td>0.01</td>\n",
              "      <td>0.01</td>\n",
              "      <td>0.01</td>\n",
              "      <td>0.01</td>\n",
              "      <td>0.01</td>\n",
              "      <td>0.01</td>\n",
              "      <td>0.01</td>\n",
              "      <td>0.01</td>\n",
              "      <td>0.01</td>\n",
              "      <td>0.01</td>\n",
              "      <td>0.01</td>\n",
              "      <td>0.01</td>\n",
              "      <td>0.01</td>\n",
              "      <td>0.01</td>\n",
              "      <td>0.01</td>\n",
              "      <td>0.01</td>\n",
              "      <td>0.01</td>\n",
              "      <td>0.01</td>\n",
              "      <td>0.01</td>\n",
              "      <td>0.01</td>\n",
              "      <td>0.01</td>\n",
              "      <td>0.01</td>\n",
              "      <td>0.01</td>\n",
              "      <td>0.01</td>\n",
              "      <td>0.01</td>\n",
              "      <td>0.01</td>\n",
              "      <td>0.01</td>\n",
              "      <td>0.01</td>\n",
              "      <td>0.01</td>\n",
              "      <td>...</td>\n",
              "      <td>10.01</td>\n",
              "      <td>10.01</td>\n",
              "      <td>10.01</td>\n",
              "      <td>10.01</td>\n",
              "      <td>10.01</td>\n",
              "      <td>10.01</td>\n",
              "      <td>10.01</td>\n",
              "      <td>10.01</td>\n",
              "      <td>10.01</td>\n",
              "      <td>10.01</td>\n",
              "      <td>10.01</td>\n",
              "      <td>10.01</td>\n",
              "      <td>10.01</td>\n",
              "      <td>10.01</td>\n",
              "      <td>10.01</td>\n",
              "      <td>10.01</td>\n",
              "      <td>10.01</td>\n",
              "      <td>10.01</td>\n",
              "      <td>10.01</td>\n",
              "      <td>10.01</td>\n",
              "      <td>10.01</td>\n",
              "      <td>10.01</td>\n",
              "      <td>10.01</td>\n",
              "      <td>10.01</td>\n",
              "      <td>10.01</td>\n",
              "      <td>10.01</td>\n",
              "      <td>10.01</td>\n",
              "      <td>10.01</td>\n",
              "      <td>10.01</td>\n",
              "      <td>10.01</td>\n",
              "      <td>10.01</td>\n",
              "      <td>10.01</td>\n",
              "      <td>10.01</td>\n",
              "      <td>10.01</td>\n",
              "      <td>10.01</td>\n",
              "      <td>10.01</td>\n",
              "      <td>10.01</td>\n",
              "      <td>10.01</td>\n",
              "      <td>10.01</td>\n",
              "      <td>10.01</td>\n",
              "    </tr>\n",
              "    <tr>\n",
              "      <th>param_svm__degree</th>\n",
              "      <td>1</td>\n",
              "      <td>1</td>\n",
              "      <td>1</td>\n",
              "      <td>1</td>\n",
              "      <td>1</td>\n",
              "      <td>1</td>\n",
              "      <td>1</td>\n",
              "      <td>1</td>\n",
              "      <td>1</td>\n",
              "      <td>1</td>\n",
              "      <td>1</td>\n",
              "      <td>1</td>\n",
              "      <td>1</td>\n",
              "      <td>1</td>\n",
              "      <td>1</td>\n",
              "      <td>1</td>\n",
              "      <td>1</td>\n",
              "      <td>1</td>\n",
              "      <td>1</td>\n",
              "      <td>1</td>\n",
              "      <td>1</td>\n",
              "      <td>1</td>\n",
              "      <td>1</td>\n",
              "      <td>1</td>\n",
              "      <td>1</td>\n",
              "      <td>1</td>\n",
              "      <td>1</td>\n",
              "      <td>2</td>\n",
              "      <td>2</td>\n",
              "      <td>2</td>\n",
              "      <td>2</td>\n",
              "      <td>2</td>\n",
              "      <td>2</td>\n",
              "      <td>2</td>\n",
              "      <td>2</td>\n",
              "      <td>2</td>\n",
              "      <td>2</td>\n",
              "      <td>2</td>\n",
              "      <td>2</td>\n",
              "      <td>2</td>\n",
              "      <td>...</td>\n",
              "      <td>3</td>\n",
              "      <td>3</td>\n",
              "      <td>3</td>\n",
              "      <td>3</td>\n",
              "      <td>3</td>\n",
              "      <td>3</td>\n",
              "      <td>3</td>\n",
              "      <td>3</td>\n",
              "      <td>3</td>\n",
              "      <td>3</td>\n",
              "      <td>3</td>\n",
              "      <td>3</td>\n",
              "      <td>3</td>\n",
              "      <td>4</td>\n",
              "      <td>4</td>\n",
              "      <td>4</td>\n",
              "      <td>4</td>\n",
              "      <td>4</td>\n",
              "      <td>4</td>\n",
              "      <td>4</td>\n",
              "      <td>4</td>\n",
              "      <td>4</td>\n",
              "      <td>4</td>\n",
              "      <td>4</td>\n",
              "      <td>4</td>\n",
              "      <td>4</td>\n",
              "      <td>4</td>\n",
              "      <td>4</td>\n",
              "      <td>4</td>\n",
              "      <td>4</td>\n",
              "      <td>4</td>\n",
              "      <td>4</td>\n",
              "      <td>4</td>\n",
              "      <td>4</td>\n",
              "      <td>4</td>\n",
              "      <td>4</td>\n",
              "      <td>4</td>\n",
              "      <td>4</td>\n",
              "      <td>4</td>\n",
              "      <td>4</td>\n",
              "    </tr>\n",
              "    <tr>\n",
              "      <th>param_svm__gamma</th>\n",
              "      <td>0.001</td>\n",
              "      <td>0.001</td>\n",
              "      <td>0.001</td>\n",
              "      <td>0.002</td>\n",
              "      <td>0.002</td>\n",
              "      <td>0.002</td>\n",
              "      <td>0.003</td>\n",
              "      <td>0.003</td>\n",
              "      <td>0.003</td>\n",
              "      <td>0.004</td>\n",
              "      <td>0.004</td>\n",
              "      <td>0.004</td>\n",
              "      <td>0.005</td>\n",
              "      <td>0.005</td>\n",
              "      <td>0.005</td>\n",
              "      <td>0.006</td>\n",
              "      <td>0.006</td>\n",
              "      <td>0.006</td>\n",
              "      <td>0.007</td>\n",
              "      <td>0.007</td>\n",
              "      <td>0.007</td>\n",
              "      <td>0.008</td>\n",
              "      <td>0.008</td>\n",
              "      <td>0.008</td>\n",
              "      <td>0.009</td>\n",
              "      <td>0.009</td>\n",
              "      <td>0.009</td>\n",
              "      <td>0.001</td>\n",
              "      <td>0.001</td>\n",
              "      <td>0.001</td>\n",
              "      <td>0.002</td>\n",
              "      <td>0.002</td>\n",
              "      <td>0.002</td>\n",
              "      <td>0.003</td>\n",
              "      <td>0.003</td>\n",
              "      <td>0.003</td>\n",
              "      <td>0.004</td>\n",
              "      <td>0.004</td>\n",
              "      <td>0.004</td>\n",
              "      <td>0.005</td>\n",
              "      <td>...</td>\n",
              "      <td>0.005</td>\n",
              "      <td>0.006</td>\n",
              "      <td>0.006</td>\n",
              "      <td>0.006</td>\n",
              "      <td>0.007</td>\n",
              "      <td>0.007</td>\n",
              "      <td>0.007</td>\n",
              "      <td>0.008</td>\n",
              "      <td>0.008</td>\n",
              "      <td>0.008</td>\n",
              "      <td>0.009</td>\n",
              "      <td>0.009</td>\n",
              "      <td>0.009</td>\n",
              "      <td>0.001</td>\n",
              "      <td>0.001</td>\n",
              "      <td>0.001</td>\n",
              "      <td>0.002</td>\n",
              "      <td>0.002</td>\n",
              "      <td>0.002</td>\n",
              "      <td>0.003</td>\n",
              "      <td>0.003</td>\n",
              "      <td>0.003</td>\n",
              "      <td>0.004</td>\n",
              "      <td>0.004</td>\n",
              "      <td>0.004</td>\n",
              "      <td>0.005</td>\n",
              "      <td>0.005</td>\n",
              "      <td>0.005</td>\n",
              "      <td>0.006</td>\n",
              "      <td>0.006</td>\n",
              "      <td>0.006</td>\n",
              "      <td>0.007</td>\n",
              "      <td>0.007</td>\n",
              "      <td>0.007</td>\n",
              "      <td>0.008</td>\n",
              "      <td>0.008</td>\n",
              "      <td>0.008</td>\n",
              "      <td>0.009</td>\n",
              "      <td>0.009</td>\n",
              "      <td>0.009</td>\n",
              "    </tr>\n",
              "    <tr>\n",
              "      <th>param_svm__kernel</th>\n",
              "      <td>linear</td>\n",
              "      <td>rbf</td>\n",
              "      <td>poly</td>\n",
              "      <td>linear</td>\n",
              "      <td>rbf</td>\n",
              "      <td>poly</td>\n",
              "      <td>linear</td>\n",
              "      <td>rbf</td>\n",
              "      <td>poly</td>\n",
              "      <td>linear</td>\n",
              "      <td>rbf</td>\n",
              "      <td>poly</td>\n",
              "      <td>linear</td>\n",
              "      <td>rbf</td>\n",
              "      <td>poly</td>\n",
              "      <td>linear</td>\n",
              "      <td>rbf</td>\n",
              "      <td>poly</td>\n",
              "      <td>linear</td>\n",
              "      <td>rbf</td>\n",
              "      <td>poly</td>\n",
              "      <td>linear</td>\n",
              "      <td>rbf</td>\n",
              "      <td>poly</td>\n",
              "      <td>linear</td>\n",
              "      <td>rbf</td>\n",
              "      <td>poly</td>\n",
              "      <td>linear</td>\n",
              "      <td>rbf</td>\n",
              "      <td>poly</td>\n",
              "      <td>linear</td>\n",
              "      <td>rbf</td>\n",
              "      <td>poly</td>\n",
              "      <td>linear</td>\n",
              "      <td>rbf</td>\n",
              "      <td>poly</td>\n",
              "      <td>linear</td>\n",
              "      <td>rbf</td>\n",
              "      <td>poly</td>\n",
              "      <td>linear</td>\n",
              "      <td>...</td>\n",
              "      <td>poly</td>\n",
              "      <td>linear</td>\n",
              "      <td>rbf</td>\n",
              "      <td>poly</td>\n",
              "      <td>linear</td>\n",
              "      <td>rbf</td>\n",
              "      <td>poly</td>\n",
              "      <td>linear</td>\n",
              "      <td>rbf</td>\n",
              "      <td>poly</td>\n",
              "      <td>linear</td>\n",
              "      <td>rbf</td>\n",
              "      <td>poly</td>\n",
              "      <td>linear</td>\n",
              "      <td>rbf</td>\n",
              "      <td>poly</td>\n",
              "      <td>linear</td>\n",
              "      <td>rbf</td>\n",
              "      <td>poly</td>\n",
              "      <td>linear</td>\n",
              "      <td>rbf</td>\n",
              "      <td>poly</td>\n",
              "      <td>linear</td>\n",
              "      <td>rbf</td>\n",
              "      <td>poly</td>\n",
              "      <td>linear</td>\n",
              "      <td>rbf</td>\n",
              "      <td>poly</td>\n",
              "      <td>linear</td>\n",
              "      <td>rbf</td>\n",
              "      <td>poly</td>\n",
              "      <td>linear</td>\n",
              "      <td>rbf</td>\n",
              "      <td>poly</td>\n",
              "      <td>linear</td>\n",
              "      <td>rbf</td>\n",
              "      <td>poly</td>\n",
              "      <td>linear</td>\n",
              "      <td>rbf</td>\n",
              "      <td>poly</td>\n",
              "    </tr>\n",
              "    <tr>\n",
              "      <th>params</th>\n",
              "      <td>{'svm__C': 0.01, 'svm__degree': 1, 'svm__gamma...</td>\n",
              "      <td>{'svm__C': 0.01, 'svm__degree': 1, 'svm__gamma...</td>\n",
              "      <td>{'svm__C': 0.01, 'svm__degree': 1, 'svm__gamma...</td>\n",
              "      <td>{'svm__C': 0.01, 'svm__degree': 1, 'svm__gamma...</td>\n",
              "      <td>{'svm__C': 0.01, 'svm__degree': 1, 'svm__gamma...</td>\n",
              "      <td>{'svm__C': 0.01, 'svm__degree': 1, 'svm__gamma...</td>\n",
              "      <td>{'svm__C': 0.01, 'svm__degree': 1, 'svm__gamma...</td>\n",
              "      <td>{'svm__C': 0.01, 'svm__degree': 1, 'svm__gamma...</td>\n",
              "      <td>{'svm__C': 0.01, 'svm__degree': 1, 'svm__gamma...</td>\n",
              "      <td>{'svm__C': 0.01, 'svm__degree': 1, 'svm__gamma...</td>\n",
              "      <td>{'svm__C': 0.01, 'svm__degree': 1, 'svm__gamma...</td>\n",
              "      <td>{'svm__C': 0.01, 'svm__degree': 1, 'svm__gamma...</td>\n",
              "      <td>{'svm__C': 0.01, 'svm__degree': 1, 'svm__gamma...</td>\n",
              "      <td>{'svm__C': 0.01, 'svm__degree': 1, 'svm__gamma...</td>\n",
              "      <td>{'svm__C': 0.01, 'svm__degree': 1, 'svm__gamma...</td>\n",
              "      <td>{'svm__C': 0.01, 'svm__degree': 1, 'svm__gamma...</td>\n",
              "      <td>{'svm__C': 0.01, 'svm__degree': 1, 'svm__gamma...</td>\n",
              "      <td>{'svm__C': 0.01, 'svm__degree': 1, 'svm__gamma...</td>\n",
              "      <td>{'svm__C': 0.01, 'svm__degree': 1, 'svm__gamma...</td>\n",
              "      <td>{'svm__C': 0.01, 'svm__degree': 1, 'svm__gamma...</td>\n",
              "      <td>{'svm__C': 0.01, 'svm__degree': 1, 'svm__gamma...</td>\n",
              "      <td>{'svm__C': 0.01, 'svm__degree': 1, 'svm__gamma...</td>\n",
              "      <td>{'svm__C': 0.01, 'svm__degree': 1, 'svm__gamma...</td>\n",
              "      <td>{'svm__C': 0.01, 'svm__degree': 1, 'svm__gamma...</td>\n",
              "      <td>{'svm__C': 0.01, 'svm__degree': 1, 'svm__gamma...</td>\n",
              "      <td>{'svm__C': 0.01, 'svm__degree': 1, 'svm__gamma...</td>\n",
              "      <td>{'svm__C': 0.01, 'svm__degree': 1, 'svm__gamma...</td>\n",
              "      <td>{'svm__C': 0.01, 'svm__degree': 2, 'svm__gamma...</td>\n",
              "      <td>{'svm__C': 0.01, 'svm__degree': 2, 'svm__gamma...</td>\n",
              "      <td>{'svm__C': 0.01, 'svm__degree': 2, 'svm__gamma...</td>\n",
              "      <td>{'svm__C': 0.01, 'svm__degree': 2, 'svm__gamma...</td>\n",
              "      <td>{'svm__C': 0.01, 'svm__degree': 2, 'svm__gamma...</td>\n",
              "      <td>{'svm__C': 0.01, 'svm__degree': 2, 'svm__gamma...</td>\n",
              "      <td>{'svm__C': 0.01, 'svm__degree': 2, 'svm__gamma...</td>\n",
              "      <td>{'svm__C': 0.01, 'svm__degree': 2, 'svm__gamma...</td>\n",
              "      <td>{'svm__C': 0.01, 'svm__degree': 2, 'svm__gamma...</td>\n",
              "      <td>{'svm__C': 0.01, 'svm__degree': 2, 'svm__gamma...</td>\n",
              "      <td>{'svm__C': 0.01, 'svm__degree': 2, 'svm__gamma...</td>\n",
              "      <td>{'svm__C': 0.01, 'svm__degree': 2, 'svm__gamma...</td>\n",
              "      <td>{'svm__C': 0.01, 'svm__degree': 2, 'svm__gamma...</td>\n",
              "      <td>...</td>\n",
              "      <td>{'svm__C': 10.01, 'svm__degree': 3, 'svm__gamm...</td>\n",
              "      <td>{'svm__C': 10.01, 'svm__degree': 3, 'svm__gamm...</td>\n",
              "      <td>{'svm__C': 10.01, 'svm__degree': 3, 'svm__gamm...</td>\n",
              "      <td>{'svm__C': 10.01, 'svm__degree': 3, 'svm__gamm...</td>\n",
              "      <td>{'svm__C': 10.01, 'svm__degree': 3, 'svm__gamm...</td>\n",
              "      <td>{'svm__C': 10.01, 'svm__degree': 3, 'svm__gamm...</td>\n",
              "      <td>{'svm__C': 10.01, 'svm__degree': 3, 'svm__gamm...</td>\n",
              "      <td>{'svm__C': 10.01, 'svm__degree': 3, 'svm__gamm...</td>\n",
              "      <td>{'svm__C': 10.01, 'svm__degree': 3, 'svm__gamm...</td>\n",
              "      <td>{'svm__C': 10.01, 'svm__degree': 3, 'svm__gamm...</td>\n",
              "      <td>{'svm__C': 10.01, 'svm__degree': 3, 'svm__gamm...</td>\n",
              "      <td>{'svm__C': 10.01, 'svm__degree': 3, 'svm__gamm...</td>\n",
              "      <td>{'svm__C': 10.01, 'svm__degree': 3, 'svm__gamm...</td>\n",
              "      <td>{'svm__C': 10.01, 'svm__degree': 4, 'svm__gamm...</td>\n",
              "      <td>{'svm__C': 10.01, 'svm__degree': 4, 'svm__gamm...</td>\n",
              "      <td>{'svm__C': 10.01, 'svm__degree': 4, 'svm__gamm...</td>\n",
              "      <td>{'svm__C': 10.01, 'svm__degree': 4, 'svm__gamm...</td>\n",
              "      <td>{'svm__C': 10.01, 'svm__degree': 4, 'svm__gamm...</td>\n",
              "      <td>{'svm__C': 10.01, 'svm__degree': 4, 'svm__gamm...</td>\n",
              "      <td>{'svm__C': 10.01, 'svm__degree': 4, 'svm__gamm...</td>\n",
              "      <td>{'svm__C': 10.01, 'svm__degree': 4, 'svm__gamm...</td>\n",
              "      <td>{'svm__C': 10.01, 'svm__degree': 4, 'svm__gamm...</td>\n",
              "      <td>{'svm__C': 10.01, 'svm__degree': 4, 'svm__gamm...</td>\n",
              "      <td>{'svm__C': 10.01, 'svm__degree': 4, 'svm__gamm...</td>\n",
              "      <td>{'svm__C': 10.01, 'svm__degree': 4, 'svm__gamm...</td>\n",
              "      <td>{'svm__C': 10.01, 'svm__degree': 4, 'svm__gamm...</td>\n",
              "      <td>{'svm__C': 10.01, 'svm__degree': 4, 'svm__gamm...</td>\n",
              "      <td>{'svm__C': 10.01, 'svm__degree': 4, 'svm__gamm...</td>\n",
              "      <td>{'svm__C': 10.01, 'svm__degree': 4, 'svm__gamm...</td>\n",
              "      <td>{'svm__C': 10.01, 'svm__degree': 4, 'svm__gamm...</td>\n",
              "      <td>{'svm__C': 10.01, 'svm__degree': 4, 'svm__gamm...</td>\n",
              "      <td>{'svm__C': 10.01, 'svm__degree': 4, 'svm__gamm...</td>\n",
              "      <td>{'svm__C': 10.01, 'svm__degree': 4, 'svm__gamm...</td>\n",
              "      <td>{'svm__C': 10.01, 'svm__degree': 4, 'svm__gamm...</td>\n",
              "      <td>{'svm__C': 10.01, 'svm__degree': 4, 'svm__gamm...</td>\n",
              "      <td>{'svm__C': 10.01, 'svm__degree': 4, 'svm__gamm...</td>\n",
              "      <td>{'svm__C': 10.01, 'svm__degree': 4, 'svm__gamm...</td>\n",
              "      <td>{'svm__C': 10.01, 'svm__degree': 4, 'svm__gamm...</td>\n",
              "      <td>{'svm__C': 10.01, 'svm__degree': 4, 'svm__gamm...</td>\n",
              "      <td>{'svm__C': 10.01, 'svm__degree': 4, 'svm__gamm...</td>\n",
              "    </tr>\n",
              "    <tr>\n",
              "      <th>split0_test_score</th>\n",
              "      <td>0.979167</td>\n",
              "      <td>0.104167</td>\n",
              "      <td>0.104167</td>\n",
              "      <td>0.979167</td>\n",
              "      <td>0.104167</td>\n",
              "      <td>0.104167</td>\n",
              "      <td>0.979167</td>\n",
              "      <td>0.104167</td>\n",
              "      <td>0.104167</td>\n",
              "      <td>0.979167</td>\n",
              "      <td>0.104167</td>\n",
              "      <td>0.104167</td>\n",
              "      <td>0.979167</td>\n",
              "      <td>0.104167</td>\n",
              "      <td>0.104167</td>\n",
              "      <td>0.979167</td>\n",
              "      <td>0.104167</td>\n",
              "      <td>0.104167</td>\n",
              "      <td>0.979167</td>\n",
              "      <td>0.104167</td>\n",
              "      <td>0.104167</td>\n",
              "      <td>0.979167</td>\n",
              "      <td>0.104167</td>\n",
              "      <td>0.104167</td>\n",
              "      <td>0.979167</td>\n",
              "      <td>0.104167</td>\n",
              "      <td>0.104167</td>\n",
              "      <td>0.979167</td>\n",
              "      <td>0.104167</td>\n",
              "      <td>0.104167</td>\n",
              "      <td>0.979167</td>\n",
              "      <td>0.104167</td>\n",
              "      <td>0.104167</td>\n",
              "      <td>0.979167</td>\n",
              "      <td>0.104167</td>\n",
              "      <td>0.104167</td>\n",
              "      <td>0.979167</td>\n",
              "      <td>0.104167</td>\n",
              "      <td>0.104167</td>\n",
              "      <td>0.979167</td>\n",
              "      <td>...</td>\n",
              "      <td>0.854167</td>\n",
              "      <td>0.986111</td>\n",
              "      <td>0.993056</td>\n",
              "      <td>0.916667</td>\n",
              "      <td>0.986111</td>\n",
              "      <td>0.993056</td>\n",
              "      <td>0.951389</td>\n",
              "      <td>0.986111</td>\n",
              "      <td>0.993056</td>\n",
              "      <td>0.979167</td>\n",
              "      <td>0.986111</td>\n",
              "      <td>0.993056</td>\n",
              "      <td>0.979167</td>\n",
              "      <td>0.986111</td>\n",
              "      <td>0.986111</td>\n",
              "      <td>0.104167</td>\n",
              "      <td>0.986111</td>\n",
              "      <td>0.986111</td>\n",
              "      <td>0.111111</td>\n",
              "      <td>0.986111</td>\n",
              "      <td>0.986111</td>\n",
              "      <td>0.145833</td>\n",
              "      <td>0.986111</td>\n",
              "      <td>0.993056</td>\n",
              "      <td>0.208333</td>\n",
              "      <td>0.986111</td>\n",
              "      <td>0.993056</td>\n",
              "      <td>0.340278</td>\n",
              "      <td>0.986111</td>\n",
              "      <td>0.993056</td>\n",
              "      <td>0.548611</td>\n",
              "      <td>0.986111</td>\n",
              "      <td>0.993056</td>\n",
              "      <td>0.659722</td>\n",
              "      <td>0.986111</td>\n",
              "      <td>0.993056</td>\n",
              "      <td>0.743056</td>\n",
              "      <td>0.986111</td>\n",
              "      <td>0.993056</td>\n",
              "      <td>0.819444</td>\n",
              "    </tr>\n",
              "    <tr>\n",
              "      <th>split1_test_score</th>\n",
              "      <td>0.986111</td>\n",
              "      <td>0.104167</td>\n",
              "      <td>0.104167</td>\n",
              "      <td>0.986111</td>\n",
              "      <td>0.104167</td>\n",
              "      <td>0.104167</td>\n",
              "      <td>0.986111</td>\n",
              "      <td>0.104167</td>\n",
              "      <td>0.104167</td>\n",
              "      <td>0.986111</td>\n",
              "      <td>0.104167</td>\n",
              "      <td>0.104167</td>\n",
              "      <td>0.986111</td>\n",
              "      <td>0.104167</td>\n",
              "      <td>0.104167</td>\n",
              "      <td>0.986111</td>\n",
              "      <td>0.104167</td>\n",
              "      <td>0.104167</td>\n",
              "      <td>0.986111</td>\n",
              "      <td>0.104167</td>\n",
              "      <td>0.104167</td>\n",
              "      <td>0.986111</td>\n",
              "      <td>0.104167</td>\n",
              "      <td>0.104167</td>\n",
              "      <td>0.986111</td>\n",
              "      <td>0.104167</td>\n",
              "      <td>0.104167</td>\n",
              "      <td>0.986111</td>\n",
              "      <td>0.104167</td>\n",
              "      <td>0.104167</td>\n",
              "      <td>0.986111</td>\n",
              "      <td>0.104167</td>\n",
              "      <td>0.104167</td>\n",
              "      <td>0.986111</td>\n",
              "      <td>0.104167</td>\n",
              "      <td>0.104167</td>\n",
              "      <td>0.986111</td>\n",
              "      <td>0.104167</td>\n",
              "      <td>0.104167</td>\n",
              "      <td>0.986111</td>\n",
              "      <td>...</td>\n",
              "      <td>0.784722</td>\n",
              "      <td>0.986111</td>\n",
              "      <td>0.986111</td>\n",
              "      <td>0.854167</td>\n",
              "      <td>0.986111</td>\n",
              "      <td>0.993056</td>\n",
              "      <td>0.881944</td>\n",
              "      <td>0.986111</td>\n",
              "      <td>0.993056</td>\n",
              "      <td>0.909722</td>\n",
              "      <td>0.986111</td>\n",
              "      <td>0.993056</td>\n",
              "      <td>0.930556</td>\n",
              "      <td>0.986111</td>\n",
              "      <td>0.979167</td>\n",
              "      <td>0.104167</td>\n",
              "      <td>0.986111</td>\n",
              "      <td>0.979167</td>\n",
              "      <td>0.125</td>\n",
              "      <td>0.986111</td>\n",
              "      <td>0.986111</td>\n",
              "      <td>0.131944</td>\n",
              "      <td>0.986111</td>\n",
              "      <td>0.986111</td>\n",
              "      <td>0.201389</td>\n",
              "      <td>0.986111</td>\n",
              "      <td>0.986111</td>\n",
              "      <td>0.326389</td>\n",
              "      <td>0.986111</td>\n",
              "      <td>0.986111</td>\n",
              "      <td>0.548611</td>\n",
              "      <td>0.986111</td>\n",
              "      <td>0.993056</td>\n",
              "      <td>0.597222</td>\n",
              "      <td>0.986111</td>\n",
              "      <td>0.993056</td>\n",
              "      <td>0.701389</td>\n",
              "      <td>0.986111</td>\n",
              "      <td>0.993056</td>\n",
              "      <td>0.763889</td>\n",
              "    </tr>\n",
              "    <tr>\n",
              "      <th>split2_test_score</th>\n",
              "      <td>0.979167</td>\n",
              "      <td>0.104167</td>\n",
              "      <td>0.104167</td>\n",
              "      <td>0.979167</td>\n",
              "      <td>0.104167</td>\n",
              "      <td>0.104167</td>\n",
              "      <td>0.979167</td>\n",
              "      <td>0.104167</td>\n",
              "      <td>0.104167</td>\n",
              "      <td>0.979167</td>\n",
              "      <td>0.104167</td>\n",
              "      <td>0.104167</td>\n",
              "      <td>0.979167</td>\n",
              "      <td>0.104167</td>\n",
              "      <td>0.104167</td>\n",
              "      <td>0.979167</td>\n",
              "      <td>0.104167</td>\n",
              "      <td>0.104167</td>\n",
              "      <td>0.979167</td>\n",
              "      <td>0.104167</td>\n",
              "      <td>0.104167</td>\n",
              "      <td>0.979167</td>\n",
              "      <td>0.104167</td>\n",
              "      <td>0.104167</td>\n",
              "      <td>0.979167</td>\n",
              "      <td>0.104167</td>\n",
              "      <td>0.104167</td>\n",
              "      <td>0.979167</td>\n",
              "      <td>0.104167</td>\n",
              "      <td>0.104167</td>\n",
              "      <td>0.979167</td>\n",
              "      <td>0.104167</td>\n",
              "      <td>0.104167</td>\n",
              "      <td>0.979167</td>\n",
              "      <td>0.104167</td>\n",
              "      <td>0.104167</td>\n",
              "      <td>0.979167</td>\n",
              "      <td>0.104167</td>\n",
              "      <td>0.104167</td>\n",
              "      <td>0.979167</td>\n",
              "      <td>...</td>\n",
              "      <td>0.8125</td>\n",
              "      <td>0.972222</td>\n",
              "      <td>0.986111</td>\n",
              "      <td>0.888889</td>\n",
              "      <td>0.972222</td>\n",
              "      <td>0.986111</td>\n",
              "      <td>0.930556</td>\n",
              "      <td>0.972222</td>\n",
              "      <td>0.986111</td>\n",
              "      <td>0.944444</td>\n",
              "      <td>0.972222</td>\n",
              "      <td>0.986111</td>\n",
              "      <td>0.951389</td>\n",
              "      <td>0.972222</td>\n",
              "      <td>0.986111</td>\n",
              "      <td>0.111111</td>\n",
              "      <td>0.972222</td>\n",
              "      <td>0.986111</td>\n",
              "      <td>0.125</td>\n",
              "      <td>0.972222</td>\n",
              "      <td>0.993056</td>\n",
              "      <td>0.125</td>\n",
              "      <td>0.972222</td>\n",
              "      <td>0.986111</td>\n",
              "      <td>0.180556</td>\n",
              "      <td>0.972222</td>\n",
              "      <td>0.986111</td>\n",
              "      <td>0.291667</td>\n",
              "      <td>0.972222</td>\n",
              "      <td>0.986111</td>\n",
              "      <td>0.486111</td>\n",
              "      <td>0.972222</td>\n",
              "      <td>0.986111</td>\n",
              "      <td>0.569444</td>\n",
              "      <td>0.972222</td>\n",
              "      <td>0.986111</td>\n",
              "      <td>0.694444</td>\n",
              "      <td>0.972222</td>\n",
              "      <td>0.986111</td>\n",
              "      <td>0.75</td>\n",
              "    </tr>\n",
              "    <tr>\n",
              "      <th>split3_test_score</th>\n",
              "      <td>0.986111</td>\n",
              "      <td>0.104167</td>\n",
              "      <td>0.104167</td>\n",
              "      <td>0.986111</td>\n",
              "      <td>0.104167</td>\n",
              "      <td>0.104167</td>\n",
              "      <td>0.986111</td>\n",
              "      <td>0.104167</td>\n",
              "      <td>0.104167</td>\n",
              "      <td>0.986111</td>\n",
              "      <td>0.104167</td>\n",
              "      <td>0.104167</td>\n",
              "      <td>0.986111</td>\n",
              "      <td>0.104167</td>\n",
              "      <td>0.104167</td>\n",
              "      <td>0.986111</td>\n",
              "      <td>0.104167</td>\n",
              "      <td>0.104167</td>\n",
              "      <td>0.986111</td>\n",
              "      <td>0.104167</td>\n",
              "      <td>0.104167</td>\n",
              "      <td>0.986111</td>\n",
              "      <td>0.104167</td>\n",
              "      <td>0.104167</td>\n",
              "      <td>0.986111</td>\n",
              "      <td>0.104167</td>\n",
              "      <td>0.104167</td>\n",
              "      <td>0.986111</td>\n",
              "      <td>0.104167</td>\n",
              "      <td>0.104167</td>\n",
              "      <td>0.986111</td>\n",
              "      <td>0.104167</td>\n",
              "      <td>0.104167</td>\n",
              "      <td>0.986111</td>\n",
              "      <td>0.104167</td>\n",
              "      <td>0.104167</td>\n",
              "      <td>0.986111</td>\n",
              "      <td>0.104167</td>\n",
              "      <td>0.104167</td>\n",
              "      <td>0.986111</td>\n",
              "      <td>...</td>\n",
              "      <td>0.777778</td>\n",
              "      <td>0.979167</td>\n",
              "      <td>1</td>\n",
              "      <td>0.888889</td>\n",
              "      <td>0.979167</td>\n",
              "      <td>1</td>\n",
              "      <td>0.9375</td>\n",
              "      <td>0.979167</td>\n",
              "      <td>1</td>\n",
              "      <td>0.944444</td>\n",
              "      <td>0.979167</td>\n",
              "      <td>1</td>\n",
              "      <td>0.958333</td>\n",
              "      <td>0.979167</td>\n",
              "      <td>0.993056</td>\n",
              "      <td>0.104167</td>\n",
              "      <td>0.979167</td>\n",
              "      <td>1</td>\n",
              "      <td>0.104167</td>\n",
              "      <td>0.979167</td>\n",
              "      <td>1</td>\n",
              "      <td>0.138889</td>\n",
              "      <td>0.979167</td>\n",
              "      <td>1</td>\n",
              "      <td>0.180556</td>\n",
              "      <td>0.979167</td>\n",
              "      <td>1</td>\n",
              "      <td>0.284722</td>\n",
              "      <td>0.979167</td>\n",
              "      <td>1</td>\n",
              "      <td>0.451389</td>\n",
              "      <td>0.979167</td>\n",
              "      <td>1</td>\n",
              "      <td>0.576389</td>\n",
              "      <td>0.979167</td>\n",
              "      <td>1</td>\n",
              "      <td>0.666667</td>\n",
              "      <td>0.979167</td>\n",
              "      <td>1</td>\n",
              "      <td>0.777778</td>\n",
              "    </tr>\n",
              "    <tr>\n",
              "      <th>split4_test_score</th>\n",
              "      <td>0.993056</td>\n",
              "      <td>0.104167</td>\n",
              "      <td>0.104167</td>\n",
              "      <td>0.993056</td>\n",
              "      <td>0.104167</td>\n",
              "      <td>0.104167</td>\n",
              "      <td>0.993056</td>\n",
              "      <td>0.104167</td>\n",
              "      <td>0.104167</td>\n",
              "      <td>0.993056</td>\n",
              "      <td>0.104167</td>\n",
              "      <td>0.104167</td>\n",
              "      <td>0.993056</td>\n",
              "      <td>0.104167</td>\n",
              "      <td>0.104167</td>\n",
              "      <td>0.993056</td>\n",
              "      <td>0.104167</td>\n",
              "      <td>0.104167</td>\n",
              "      <td>0.993056</td>\n",
              "      <td>0.104167</td>\n",
              "      <td>0.104167</td>\n",
              "      <td>0.993056</td>\n",
              "      <td>0.104167</td>\n",
              "      <td>0.104167</td>\n",
              "      <td>0.993056</td>\n",
              "      <td>0.104167</td>\n",
              "      <td>0.104167</td>\n",
              "      <td>0.993056</td>\n",
              "      <td>0.104167</td>\n",
              "      <td>0.104167</td>\n",
              "      <td>0.993056</td>\n",
              "      <td>0.104167</td>\n",
              "      <td>0.104167</td>\n",
              "      <td>0.993056</td>\n",
              "      <td>0.104167</td>\n",
              "      <td>0.104167</td>\n",
              "      <td>0.993056</td>\n",
              "      <td>0.104167</td>\n",
              "      <td>0.104167</td>\n",
              "      <td>0.993056</td>\n",
              "      <td>...</td>\n",
              "      <td>0.895833</td>\n",
              "      <td>0.979167</td>\n",
              "      <td>0.965278</td>\n",
              "      <td>0.965278</td>\n",
              "      <td>0.979167</td>\n",
              "      <td>0.965278</td>\n",
              "      <td>0.979167</td>\n",
              "      <td>0.979167</td>\n",
              "      <td>0.965278</td>\n",
              "      <td>0.986111</td>\n",
              "      <td>0.979167</td>\n",
              "      <td>0.965278</td>\n",
              "      <td>0.986111</td>\n",
              "      <td>0.979167</td>\n",
              "      <td>0.993056</td>\n",
              "      <td>0.104167</td>\n",
              "      <td>0.979167</td>\n",
              "      <td>0.979167</td>\n",
              "      <td>0.104167</td>\n",
              "      <td>0.979167</td>\n",
              "      <td>0.979167</td>\n",
              "      <td>0.131944</td>\n",
              "      <td>0.979167</td>\n",
              "      <td>0.965278</td>\n",
              "      <td>0.166667</td>\n",
              "      <td>0.979167</td>\n",
              "      <td>0.965278</td>\n",
              "      <td>0.340278</td>\n",
              "      <td>0.979167</td>\n",
              "      <td>0.965278</td>\n",
              "      <td>0.541667</td>\n",
              "      <td>0.979167</td>\n",
              "      <td>0.965278</td>\n",
              "      <td>0.680556</td>\n",
              "      <td>0.979167</td>\n",
              "      <td>0.965278</td>\n",
              "      <td>0.75</td>\n",
              "      <td>0.979167</td>\n",
              "      <td>0.965278</td>\n",
              "      <td>0.833333</td>\n",
              "    </tr>\n",
              "    <tr>\n",
              "      <th>split5_test_score</th>\n",
              "      <td>0.965278</td>\n",
              "      <td>0.104167</td>\n",
              "      <td>0.104167</td>\n",
              "      <td>0.965278</td>\n",
              "      <td>0.104167</td>\n",
              "      <td>0.104167</td>\n",
              "      <td>0.965278</td>\n",
              "      <td>0.104167</td>\n",
              "      <td>0.104167</td>\n",
              "      <td>0.965278</td>\n",
              "      <td>0.104167</td>\n",
              "      <td>0.104167</td>\n",
              "      <td>0.965278</td>\n",
              "      <td>0.104167</td>\n",
              "      <td>0.104167</td>\n",
              "      <td>0.965278</td>\n",
              "      <td>0.104167</td>\n",
              "      <td>0.104167</td>\n",
              "      <td>0.965278</td>\n",
              "      <td>0.104167</td>\n",
              "      <td>0.104167</td>\n",
              "      <td>0.965278</td>\n",
              "      <td>0.104167</td>\n",
              "      <td>0.104167</td>\n",
              "      <td>0.965278</td>\n",
              "      <td>0.104167</td>\n",
              "      <td>0.104167</td>\n",
              "      <td>0.965278</td>\n",
              "      <td>0.104167</td>\n",
              "      <td>0.104167</td>\n",
              "      <td>0.965278</td>\n",
              "      <td>0.104167</td>\n",
              "      <td>0.104167</td>\n",
              "      <td>0.965278</td>\n",
              "      <td>0.104167</td>\n",
              "      <td>0.104167</td>\n",
              "      <td>0.965278</td>\n",
              "      <td>0.104167</td>\n",
              "      <td>0.104167</td>\n",
              "      <td>0.965278</td>\n",
              "      <td>...</td>\n",
              "      <td>0.868056</td>\n",
              "      <td>0.986111</td>\n",
              "      <td>0.979167</td>\n",
              "      <td>0.923611</td>\n",
              "      <td>0.986111</td>\n",
              "      <td>0.979167</td>\n",
              "      <td>0.944444</td>\n",
              "      <td>0.986111</td>\n",
              "      <td>0.979167</td>\n",
              "      <td>0.965278</td>\n",
              "      <td>0.986111</td>\n",
              "      <td>0.986111</td>\n",
              "      <td>0.979167</td>\n",
              "      <td>0.986111</td>\n",
              "      <td>0.972222</td>\n",
              "      <td>0.111111</td>\n",
              "      <td>0.986111</td>\n",
              "      <td>0.986111</td>\n",
              "      <td>0.111111</td>\n",
              "      <td>0.986111</td>\n",
              "      <td>0.986111</td>\n",
              "      <td>0.111111</td>\n",
              "      <td>0.986111</td>\n",
              "      <td>0.979167</td>\n",
              "      <td>0.194444</td>\n",
              "      <td>0.986111</td>\n",
              "      <td>0.979167</td>\n",
              "      <td>0.319444</td>\n",
              "      <td>0.986111</td>\n",
              "      <td>0.979167</td>\n",
              "      <td>0.604167</td>\n",
              "      <td>0.986111</td>\n",
              "      <td>0.979167</td>\n",
              "      <td>0.673611</td>\n",
              "      <td>0.986111</td>\n",
              "      <td>0.979167</td>\n",
              "      <td>0.777778</td>\n",
              "      <td>0.986111</td>\n",
              "      <td>0.986111</td>\n",
              "      <td>0.826389</td>\n",
              "    </tr>\n",
              "    <tr>\n",
              "      <th>split6_test_score</th>\n",
              "      <td>0.972222</td>\n",
              "      <td>0.104167</td>\n",
              "      <td>0.104167</td>\n",
              "      <td>0.972222</td>\n",
              "      <td>0.104167</td>\n",
              "      <td>0.104167</td>\n",
              "      <td>0.972222</td>\n",
              "      <td>0.104167</td>\n",
              "      <td>0.104167</td>\n",
              "      <td>0.972222</td>\n",
              "      <td>0.104167</td>\n",
              "      <td>0.104167</td>\n",
              "      <td>0.972222</td>\n",
              "      <td>0.104167</td>\n",
              "      <td>0.104167</td>\n",
              "      <td>0.972222</td>\n",
              "      <td>0.104167</td>\n",
              "      <td>0.104167</td>\n",
              "      <td>0.972222</td>\n",
              "      <td>0.104167</td>\n",
              "      <td>0.104167</td>\n",
              "      <td>0.972222</td>\n",
              "      <td>0.104167</td>\n",
              "      <td>0.104167</td>\n",
              "      <td>0.972222</td>\n",
              "      <td>0.104167</td>\n",
              "      <td>0.104167</td>\n",
              "      <td>0.972222</td>\n",
              "      <td>0.104167</td>\n",
              "      <td>0.104167</td>\n",
              "      <td>0.972222</td>\n",
              "      <td>0.104167</td>\n",
              "      <td>0.104167</td>\n",
              "      <td>0.972222</td>\n",
              "      <td>0.104167</td>\n",
              "      <td>0.104167</td>\n",
              "      <td>0.972222</td>\n",
              "      <td>0.104167</td>\n",
              "      <td>0.0972222</td>\n",
              "      <td>0.972222</td>\n",
              "      <td>...</td>\n",
              "      <td>0.791667</td>\n",
              "      <td>0.993056</td>\n",
              "      <td>0.993056</td>\n",
              "      <td>0.847222</td>\n",
              "      <td>0.993056</td>\n",
              "      <td>0.993056</td>\n",
              "      <td>0.902778</td>\n",
              "      <td>0.993056</td>\n",
              "      <td>0.993056</td>\n",
              "      <td>0.9375</td>\n",
              "      <td>0.993056</td>\n",
              "      <td>0.993056</td>\n",
              "      <td>0.958333</td>\n",
              "      <td>0.993056</td>\n",
              "      <td>0.979167</td>\n",
              "      <td>0.0972222</td>\n",
              "      <td>0.993056</td>\n",
              "      <td>0.993056</td>\n",
              "      <td>0.118056</td>\n",
              "      <td>0.993056</td>\n",
              "      <td>0.993056</td>\n",
              "      <td>0.180556</td>\n",
              "      <td>0.993056</td>\n",
              "      <td>0.993056</td>\n",
              "      <td>0.215278</td>\n",
              "      <td>0.993056</td>\n",
              "      <td>0.993056</td>\n",
              "      <td>0.333333</td>\n",
              "      <td>0.993056</td>\n",
              "      <td>0.993056</td>\n",
              "      <td>0.555556</td>\n",
              "      <td>0.993056</td>\n",
              "      <td>0.993056</td>\n",
              "      <td>0.638889</td>\n",
              "      <td>0.993056</td>\n",
              "      <td>0.993056</td>\n",
              "      <td>0.722222</td>\n",
              "      <td>0.993056</td>\n",
              "      <td>0.993056</td>\n",
              "      <td>0.763889</td>\n",
              "    </tr>\n",
              "    <tr>\n",
              "      <th>split7_test_score</th>\n",
              "      <td>0.972028</td>\n",
              "      <td>0.111888</td>\n",
              "      <td>0.111888</td>\n",
              "      <td>0.972028</td>\n",
              "      <td>0.111888</td>\n",
              "      <td>0.111888</td>\n",
              "      <td>0.972028</td>\n",
              "      <td>0.111888</td>\n",
              "      <td>0.111888</td>\n",
              "      <td>0.972028</td>\n",
              "      <td>0.111888</td>\n",
              "      <td>0.111888</td>\n",
              "      <td>0.972028</td>\n",
              "      <td>0.111888</td>\n",
              "      <td>0.111888</td>\n",
              "      <td>0.972028</td>\n",
              "      <td>0.111888</td>\n",
              "      <td>0.111888</td>\n",
              "      <td>0.972028</td>\n",
              "      <td>0.111888</td>\n",
              "      <td>0.111888</td>\n",
              "      <td>0.972028</td>\n",
              "      <td>0.111888</td>\n",
              "      <td>0.13986</td>\n",
              "      <td>0.972028</td>\n",
              "      <td>0.111888</td>\n",
              "      <td>0.202797</td>\n",
              "      <td>0.972028</td>\n",
              "      <td>0.111888</td>\n",
              "      <td>0.111888</td>\n",
              "      <td>0.972028</td>\n",
              "      <td>0.111888</td>\n",
              "      <td>0.111888</td>\n",
              "      <td>0.972028</td>\n",
              "      <td>0.111888</td>\n",
              "      <td>0.111888</td>\n",
              "      <td>0.972028</td>\n",
              "      <td>0.111888</td>\n",
              "      <td>0.111888</td>\n",
              "      <td>0.972028</td>\n",
              "      <td>...</td>\n",
              "      <td>0.874126</td>\n",
              "      <td>0.972028</td>\n",
              "      <td>0.979021</td>\n",
              "      <td>0.916084</td>\n",
              "      <td>0.972028</td>\n",
              "      <td>0.986014</td>\n",
              "      <td>0.951049</td>\n",
              "      <td>0.972028</td>\n",
              "      <td>0.986014</td>\n",
              "      <td>0.972028</td>\n",
              "      <td>0.972028</td>\n",
              "      <td>0.986014</td>\n",
              "      <td>0.972028</td>\n",
              "      <td>0.972028</td>\n",
              "      <td>0.979021</td>\n",
              "      <td>0.111888</td>\n",
              "      <td>0.972028</td>\n",
              "      <td>0.979021</td>\n",
              "      <td>0.118881</td>\n",
              "      <td>0.972028</td>\n",
              "      <td>0.979021</td>\n",
              "      <td>0.118881</td>\n",
              "      <td>0.972028</td>\n",
              "      <td>0.979021</td>\n",
              "      <td>0.167832</td>\n",
              "      <td>0.972028</td>\n",
              "      <td>0.979021</td>\n",
              "      <td>0.307692</td>\n",
              "      <td>0.972028</td>\n",
              "      <td>0.979021</td>\n",
              "      <td>0.496503</td>\n",
              "      <td>0.972028</td>\n",
              "      <td>0.986014</td>\n",
              "      <td>0.65035</td>\n",
              "      <td>0.972028</td>\n",
              "      <td>0.986014</td>\n",
              "      <td>0.769231</td>\n",
              "      <td>0.972028</td>\n",
              "      <td>0.986014</td>\n",
              "      <td>0.86014</td>\n",
              "    </tr>\n",
              "    <tr>\n",
              "      <th>split8_test_score</th>\n",
              "      <td>0.986014</td>\n",
              "      <td>0.111888</td>\n",
              "      <td>0.111888</td>\n",
              "      <td>0.986014</td>\n",
              "      <td>0.111888</td>\n",
              "      <td>0.111888</td>\n",
              "      <td>0.986014</td>\n",
              "      <td>0.111888</td>\n",
              "      <td>0.111888</td>\n",
              "      <td>0.986014</td>\n",
              "      <td>0.111888</td>\n",
              "      <td>0.111888</td>\n",
              "      <td>0.986014</td>\n",
              "      <td>0.111888</td>\n",
              "      <td>0.111888</td>\n",
              "      <td>0.986014</td>\n",
              "      <td>0.111888</td>\n",
              "      <td>0.111888</td>\n",
              "      <td>0.986014</td>\n",
              "      <td>0.111888</td>\n",
              "      <td>0.111888</td>\n",
              "      <td>0.986014</td>\n",
              "      <td>0.111888</td>\n",
              "      <td>0.111888</td>\n",
              "      <td>0.986014</td>\n",
              "      <td>0.111888</td>\n",
              "      <td>0.111888</td>\n",
              "      <td>0.986014</td>\n",
              "      <td>0.111888</td>\n",
              "      <td>0.111888</td>\n",
              "      <td>0.986014</td>\n",
              "      <td>0.111888</td>\n",
              "      <td>0.111888</td>\n",
              "      <td>0.986014</td>\n",
              "      <td>0.111888</td>\n",
              "      <td>0.111888</td>\n",
              "      <td>0.986014</td>\n",
              "      <td>0.111888</td>\n",
              "      <td>0.111888</td>\n",
              "      <td>0.986014</td>\n",
              "      <td>...</td>\n",
              "      <td>0.874126</td>\n",
              "      <td>0.986014</td>\n",
              "      <td>0.979021</td>\n",
              "      <td>0.93007</td>\n",
              "      <td>0.986014</td>\n",
              "      <td>0.979021</td>\n",
              "      <td>0.972028</td>\n",
              "      <td>0.986014</td>\n",
              "      <td>0.979021</td>\n",
              "      <td>0.986014</td>\n",
              "      <td>0.986014</td>\n",
              "      <td>0.972028</td>\n",
              "      <td>0.986014</td>\n",
              "      <td>0.986014</td>\n",
              "      <td>0.986014</td>\n",
              "      <td>0.111888</td>\n",
              "      <td>0.986014</td>\n",
              "      <td>0.979021</td>\n",
              "      <td>0.13986</td>\n",
              "      <td>0.986014</td>\n",
              "      <td>0.986014</td>\n",
              "      <td>0.13986</td>\n",
              "      <td>0.986014</td>\n",
              "      <td>0.979021</td>\n",
              "      <td>0.20979</td>\n",
              "      <td>0.986014</td>\n",
              "      <td>0.972028</td>\n",
              "      <td>0.335664</td>\n",
              "      <td>0.986014</td>\n",
              "      <td>0.979021</td>\n",
              "      <td>0.594406</td>\n",
              "      <td>0.986014</td>\n",
              "      <td>0.979021</td>\n",
              "      <td>0.671329</td>\n",
              "      <td>0.986014</td>\n",
              "      <td>0.979021</td>\n",
              "      <td>0.797203</td>\n",
              "      <td>0.986014</td>\n",
              "      <td>0.972028</td>\n",
              "      <td>0.86014</td>\n",
              "    </tr>\n",
              "    <tr>\n",
              "      <th>split9_test_score</th>\n",
              "      <td>0.958042</td>\n",
              "      <td>0.111888</td>\n",
              "      <td>0.111888</td>\n",
              "      <td>0.958042</td>\n",
              "      <td>0.111888</td>\n",
              "      <td>0.111888</td>\n",
              "      <td>0.958042</td>\n",
              "      <td>0.111888</td>\n",
              "      <td>0.111888</td>\n",
              "      <td>0.958042</td>\n",
              "      <td>0.111888</td>\n",
              "      <td>0.111888</td>\n",
              "      <td>0.958042</td>\n",
              "      <td>0.111888</td>\n",
              "      <td>0.111888</td>\n",
              "      <td>0.958042</td>\n",
              "      <td>0.111888</td>\n",
              "      <td>0.111888</td>\n",
              "      <td>0.958042</td>\n",
              "      <td>0.111888</td>\n",
              "      <td>0.111888</td>\n",
              "      <td>0.958042</td>\n",
              "      <td>0.111888</td>\n",
              "      <td>0.111888</td>\n",
              "      <td>0.958042</td>\n",
              "      <td>0.111888</td>\n",
              "      <td>0.111888</td>\n",
              "      <td>0.958042</td>\n",
              "      <td>0.111888</td>\n",
              "      <td>0.111888</td>\n",
              "      <td>0.958042</td>\n",
              "      <td>0.111888</td>\n",
              "      <td>0.111888</td>\n",
              "      <td>0.958042</td>\n",
              "      <td>0.111888</td>\n",
              "      <td>0.111888</td>\n",
              "      <td>0.958042</td>\n",
              "      <td>0.111888</td>\n",
              "      <td>0.111888</td>\n",
              "      <td>0.958042</td>\n",
              "      <td>...</td>\n",
              "      <td>0.818182</td>\n",
              "      <td>0.965035</td>\n",
              "      <td>0.951049</td>\n",
              "      <td>0.895105</td>\n",
              "      <td>0.965035</td>\n",
              "      <td>0.958042</td>\n",
              "      <td>0.93007</td>\n",
              "      <td>0.965035</td>\n",
              "      <td>0.965035</td>\n",
              "      <td>0.937063</td>\n",
              "      <td>0.965035</td>\n",
              "      <td>0.965035</td>\n",
              "      <td>0.951049</td>\n",
              "      <td>0.965035</td>\n",
              "      <td>0.965035</td>\n",
              "      <td>0.111888</td>\n",
              "      <td>0.965035</td>\n",
              "      <td>0.951049</td>\n",
              "      <td>0.0979021</td>\n",
              "      <td>0.965035</td>\n",
              "      <td>0.951049</td>\n",
              "      <td>0.104895</td>\n",
              "      <td>0.965035</td>\n",
              "      <td>0.951049</td>\n",
              "      <td>0.160839</td>\n",
              "      <td>0.965035</td>\n",
              "      <td>0.951049</td>\n",
              "      <td>0.321678</td>\n",
              "      <td>0.965035</td>\n",
              "      <td>0.951049</td>\n",
              "      <td>0.538462</td>\n",
              "      <td>0.965035</td>\n",
              "      <td>0.958042</td>\n",
              "      <td>0.636364</td>\n",
              "      <td>0.965035</td>\n",
              "      <td>0.965035</td>\n",
              "      <td>0.72028</td>\n",
              "      <td>0.965035</td>\n",
              "      <td>0.965035</td>\n",
              "      <td>0.811189</td>\n",
              "    </tr>\n",
              "    <tr>\n",
              "      <th>mean_test_score</th>\n",
              "      <td>0.97772</td>\n",
              "      <td>0.106483</td>\n",
              "      <td>0.106483</td>\n",
              "      <td>0.97772</td>\n",
              "      <td>0.106483</td>\n",
              "      <td>0.106483</td>\n",
              "      <td>0.97772</td>\n",
              "      <td>0.106483</td>\n",
              "      <td>0.106483</td>\n",
              "      <td>0.97772</td>\n",
              "      <td>0.106483</td>\n",
              "      <td>0.106483</td>\n",
              "      <td>0.97772</td>\n",
              "      <td>0.106483</td>\n",
              "      <td>0.106483</td>\n",
              "      <td>0.97772</td>\n",
              "      <td>0.106483</td>\n",
              "      <td>0.106483</td>\n",
              "      <td>0.97772</td>\n",
              "      <td>0.106483</td>\n",
              "      <td>0.106483</td>\n",
              "      <td>0.97772</td>\n",
              "      <td>0.106483</td>\n",
              "      <td>0.10928</td>\n",
              "      <td>0.97772</td>\n",
              "      <td>0.106483</td>\n",
              "      <td>0.115574</td>\n",
              "      <td>0.97772</td>\n",
              "      <td>0.106483</td>\n",
              "      <td>0.106483</td>\n",
              "      <td>0.97772</td>\n",
              "      <td>0.106483</td>\n",
              "      <td>0.106483</td>\n",
              "      <td>0.97772</td>\n",
              "      <td>0.106483</td>\n",
              "      <td>0.106483</td>\n",
              "      <td>0.97772</td>\n",
              "      <td>0.106483</td>\n",
              "      <td>0.105789</td>\n",
              "      <td>0.97772</td>\n",
              "      <td>...</td>\n",
              "      <td>0.835116</td>\n",
              "      <td>0.980502</td>\n",
              "      <td>0.981187</td>\n",
              "      <td>0.902598</td>\n",
              "      <td>0.980502</td>\n",
              "      <td>0.98328</td>\n",
              "      <td>0.938092</td>\n",
              "      <td>0.980502</td>\n",
              "      <td>0.983979</td>\n",
              "      <td>0.956177</td>\n",
              "      <td>0.980502</td>\n",
              "      <td>0.983974</td>\n",
              "      <td>0.965215</td>\n",
              "      <td>0.980502</td>\n",
              "      <td>0.981896</td>\n",
              "      <td>0.107178</td>\n",
              "      <td>0.980502</td>\n",
              "      <td>0.981881</td>\n",
              "      <td>0.115525</td>\n",
              "      <td>0.980502</td>\n",
              "      <td>0.98397</td>\n",
              "      <td>0.132891</td>\n",
              "      <td>0.980502</td>\n",
              "      <td>0.981187</td>\n",
              "      <td>0.188568</td>\n",
              "      <td>0.980502</td>\n",
              "      <td>0.980488</td>\n",
              "      <td>0.320115</td>\n",
              "      <td>0.980502</td>\n",
              "      <td>0.981187</td>\n",
              "      <td>0.536548</td>\n",
              "      <td>0.980502</td>\n",
              "      <td>0.98328</td>\n",
              "      <td>0.635388</td>\n",
              "      <td>0.980502</td>\n",
              "      <td>0.983979</td>\n",
              "      <td>0.734227</td>\n",
              "      <td>0.980502</td>\n",
              "      <td>0.983974</td>\n",
              "      <td>0.806619</td>\n",
              "    </tr>\n",
              "    <tr>\n",
              "      <th>std_test_score</th>\n",
              "      <td>0.0102647</td>\n",
              "      <td>0.00353841</td>\n",
              "      <td>0.00353841</td>\n",
              "      <td>0.0102647</td>\n",
              "      <td>0.00353841</td>\n",
              "      <td>0.00353841</td>\n",
              "      <td>0.0102647</td>\n",
              "      <td>0.00353841</td>\n",
              "      <td>0.00353841</td>\n",
              "      <td>0.0102647</td>\n",
              "      <td>0.00353841</td>\n",
              "      <td>0.00353841</td>\n",
              "      <td>0.0102647</td>\n",
              "      <td>0.00353841</td>\n",
              "      <td>0.00353841</td>\n",
              "      <td>0.0102647</td>\n",
              "      <td>0.00353841</td>\n",
              "      <td>0.00353841</td>\n",
              "      <td>0.0102647</td>\n",
              "      <td>0.00353841</td>\n",
              "      <td>0.00353841</td>\n",
              "      <td>0.0102647</td>\n",
              "      <td>0.00353841</td>\n",
              "      <td>0.0106385</td>\n",
              "      <td>0.0102647</td>\n",
              "      <td>0.00353841</td>\n",
              "      <td>0.0292335</td>\n",
              "      <td>0.0102647</td>\n",
              "      <td>0.00353841</td>\n",
              "      <td>0.00353841</td>\n",
              "      <td>0.0102647</td>\n",
              "      <td>0.00353841</td>\n",
              "      <td>0.00353841</td>\n",
              "      <td>0.0102647</td>\n",
              "      <td>0.00353841</td>\n",
              "      <td>0.00353841</td>\n",
              "      <td>0.0102647</td>\n",
              "      <td>0.00353841</td>\n",
              "      <td>0.00448084</td>\n",
              "      <td>0.0102647</td>\n",
              "      <td>...</td>\n",
              "      <td>0.0408551</td>\n",
              "      <td>0.00815794</td>\n",
              "      <td>0.0136346</td>\n",
              "      <td>0.0336881</td>\n",
              "      <td>0.00815794</td>\n",
              "      <td>0.0125612</td>\n",
              "      <td>0.0278298</td>\n",
              "      <td>0.00815794</td>\n",
              "      <td>0.0112644</td>\n",
              "      <td>0.0240758</td>\n",
              "      <td>0.00815794</td>\n",
              "      <td>0.0116983</td>\n",
              "      <td>0.0172997</td>\n",
              "      <td>0.00815794</td>\n",
              "      <td>0.00838215</td>\n",
              "      <td>0.00482581</td>\n",
              "      <td>0.00815794</td>\n",
              "      <td>0.0122007</td>\n",
              "      <td>0.0118194</td>\n",
              "      <td>0.00815794</td>\n",
              "      <td>0.0125353</td>\n",
              "      <td>0.0201058</td>\n",
              "      <td>0.00815794</td>\n",
              "      <td>0.0136346</td>\n",
              "      <td>0.0188688</td>\n",
              "      <td>0.00815794</td>\n",
              "      <td>0.0139044</td>\n",
              "      <td>0.0186765</td>\n",
              "      <td>0.00815794</td>\n",
              "      <td>0.0136346</td>\n",
              "      <td>0.044723</td>\n",
              "      <td>0.00815794</td>\n",
              "      <td>0.0125612</td>\n",
              "      <td>0.0386111</td>\n",
              "      <td>0.00815794</td>\n",
              "      <td>0.0112644</td>\n",
              "      <td>0.0387023</td>\n",
              "      <td>0.00815794</td>\n",
              "      <td>0.0116983</td>\n",
              "      <td>0.0383511</td>\n",
              "    </tr>\n",
              "    <tr>\n",
              "      <th>rank_test_score</th>\n",
              "      <td>740</td>\n",
              "      <td>1114</td>\n",
              "      <td>1114</td>\n",
              "      <td>740</td>\n",
              "      <td>1114</td>\n",
              "      <td>1114</td>\n",
              "      <td>740</td>\n",
              "      <td>1114</td>\n",
              "      <td>1114</td>\n",
              "      <td>740</td>\n",
              "      <td>1114</td>\n",
              "      <td>1114</td>\n",
              "      <td>740</td>\n",
              "      <td>1114</td>\n",
              "      <td>1114</td>\n",
              "      <td>740</td>\n",
              "      <td>1114</td>\n",
              "      <td>1114</td>\n",
              "      <td>740</td>\n",
              "      <td>1114</td>\n",
              "      <td>1114</td>\n",
              "      <td>740</td>\n",
              "      <td>1114</td>\n",
              "      <td>1098</td>\n",
              "      <td>740</td>\n",
              "      <td>1114</td>\n",
              "      <td>1084</td>\n",
              "      <td>740</td>\n",
              "      <td>1114</td>\n",
              "      <td>1114</td>\n",
              "      <td>740</td>\n",
              "      <td>1114</td>\n",
              "      <td>1114</td>\n",
              "      <td>740</td>\n",
              "      <td>1114</td>\n",
              "      <td>1114</td>\n",
              "      <td>740</td>\n",
              "      <td>1114</td>\n",
              "      <td>1172</td>\n",
              "      <td>740</td>\n",
              "      <td>...</td>\n",
              "      <td>947</td>\n",
              "      <td>263</td>\n",
              "      <td>226</td>\n",
              "      <td>926</td>\n",
              "      <td>263</td>\n",
              "      <td>61</td>\n",
              "      <td>907</td>\n",
              "      <td>263</td>\n",
              "      <td>7</td>\n",
              "      <td>885</td>\n",
              "      <td>263</td>\n",
              "      <td>29</td>\n",
              "      <td>861</td>\n",
              "      <td>263</td>\n",
              "      <td>156</td>\n",
              "      <td>1110</td>\n",
              "      <td>263</td>\n",
              "      <td>195</td>\n",
              "      <td>1086</td>\n",
              "      <td>263</td>\n",
              "      <td>45</td>\n",
              "      <td>1070</td>\n",
              "      <td>263</td>\n",
              "      <td>226</td>\n",
              "      <td>1046</td>\n",
              "      <td>263</td>\n",
              "      <td>659</td>\n",
              "      <td>1025</td>\n",
              "      <td>263</td>\n",
              "      <td>226</td>\n",
              "      <td>998</td>\n",
              "      <td>263</td>\n",
              "      <td>61</td>\n",
              "      <td>983</td>\n",
              "      <td>263</td>\n",
              "      <td>7</td>\n",
              "      <td>966</td>\n",
              "      <td>263</td>\n",
              "      <td>29</td>\n",
              "      <td>955</td>\n",
              "    </tr>\n",
              "  </tbody>\n",
              "</table>\n",
              "<p>22 rows × 1188 columns</p>\n",
              "</div>"
            ],
            "text/plain": [
              "                                                                0     ...                                               1187\n",
              "mean_fit_time                                              0.0561727  ...                                           0.173975\n",
              "std_fit_time                                              0.00391615  ...                                         0.00268943\n",
              "mean_score_time                                           0.00866284  ...                                          0.0128753\n",
              "std_score_time                                           0.000148148  ...                                        0.000598597\n",
              "param_svm__C                                                    0.01  ...                                              10.01\n",
              "param_svm__degree                                                  1  ...                                                  4\n",
              "param_svm__gamma                                               0.001  ...                                              0.009\n",
              "param_svm__kernel                                             linear  ...                                               poly\n",
              "params             {'svm__C': 0.01, 'svm__degree': 1, 'svm__gamma...  ...  {'svm__C': 10.01, 'svm__degree': 4, 'svm__gamm...\n",
              "split0_test_score                                           0.979167  ...                                           0.819444\n",
              "split1_test_score                                           0.986111  ...                                           0.763889\n",
              "split2_test_score                                           0.979167  ...                                               0.75\n",
              "split3_test_score                                           0.986111  ...                                           0.777778\n",
              "split4_test_score                                           0.993056  ...                                           0.833333\n",
              "split5_test_score                                           0.965278  ...                                           0.826389\n",
              "split6_test_score                                           0.972222  ...                                           0.763889\n",
              "split7_test_score                                           0.972028  ...                                            0.86014\n",
              "split8_test_score                                           0.986014  ...                                            0.86014\n",
              "split9_test_score                                           0.958042  ...                                           0.811189\n",
              "mean_test_score                                              0.97772  ...                                           0.806619\n",
              "std_test_score                                             0.0102647  ...                                          0.0383511\n",
              "rank_test_score                                                  740  ...                                                955\n",
              "\n",
              "[22 rows x 1188 columns]"
            ]
          },
          "metadata": {
            "tags": []
          }
        }
      ]
    },
    {
      "cell_type": "code",
      "metadata": {
        "id": "UUrNElIneLFU"
      },
      "source": [
        "grid_svm.cv_results_['params']"
      ],
      "execution_count": null,
      "outputs": []
    },
    {
      "cell_type": "code",
      "metadata": {
        "id": "7XUZ9ox8dkq4",
        "outputId": "5ac58e4e-b557-44ab-d093-373fbaaa0e11",
        "colab": {
          "base_uri": "https://localhost:8080/",
          "height": 51
        }
      },
      "source": [
        "grid_svm.cv_results_['mean_test_score']"
      ],
      "execution_count": null,
      "outputs": [
        {
          "output_type": "execute_result",
          "data": {
            "text/plain": [
              "array([0.9777195 , 0.1064831 , 0.1064831 , ..., 0.98050214, 0.98397436,\n",
              "       0.80661908])"
            ]
          },
          "metadata": {
            "tags": []
          },
          "execution_count": 56
        }
      ]
    },
    {
      "cell_type": "markdown",
      "metadata": {
        "id": "jZBF-Ho2hUKg"
      },
      "source": [
        "### Fitting the final model by the best parameters:"
      ]
    },
    {
      "cell_type": "code",
      "metadata": {
        "id": "oOhrH3W-w0cu",
        "outputId": "678b25c4-12b3-46c4-8639-38a07de158b2",
        "colab": {
          "base_uri": "https://localhost:8080/",
          "height": 204
        }
      },
      "source": [
        "grid_svm.best_estimator_.fit(X_train, y_train)"
      ],
      "execution_count": null,
      "outputs": [
        {
          "output_type": "execute_result",
          "data": {
            "text/plain": [
              "Pipeline(memory=None,\n",
              "         steps=[('scaler',\n",
              "                 StandardScaler(copy=True, with_mean=True, with_std=True)),\n",
              "                ('svm',\n",
              "                 SVC(C=9.01, break_ties=False, cache_size=200,\n",
              "                     class_weight=None, coef0=0.0,\n",
              "                     decision_function_shape='ovr', degree=2,\n",
              "                     gamma=0.009000000000000001, kernel='poly', max_iter=-1,\n",
              "                     probability=False, random_state=None, shrinking=True,\n",
              "                     tol=0.001, verbose=False))],\n",
              "         verbose=False)"
            ]
          },
          "metadata": {
            "tags": []
          },
          "execution_count": 57
        }
      ]
    },
    {
      "cell_type": "markdown",
      "metadata": {
        "id": "9Go_Bjx2N5Se"
      },
      "source": [
        "###Evaluating Model Performance:"
      ]
    },
    {
      "cell_type": "code",
      "metadata": {
        "id": "A09mTczrhu5y",
        "outputId": "50442941-88d4-4219-e049-b97937599859",
        "colab": {
          "base_uri": "https://localhost:8080/",
          "height": 34
        }
      },
      "source": [
        "print(\"Test set score: {:.2f}\".format(grid_svm.best_estimator_.score(X_test, y_test)))"
      ],
      "execution_count": null,
      "outputs": [
        {
          "output_type": "stream",
          "text": [
            "Test set score: 0.97\n"
          ],
          "name": "stdout"
        }
      ]
    },
    {
      "cell_type": "code",
      "metadata": {
        "id": "z3IkjhkXh1vL",
        "outputId": "f87f2623-5620-42f0-8b1f-40e396662cf3",
        "colab": {
          "base_uri": "https://localhost:8080/",
          "height": 204
        }
      },
      "source": [
        "from sklearn.metrics import confusion_matrix\n",
        "print('Confusion Matrix:','\\n',confusion_matrix(y_test,grid_svm.best_estimator_.predict(X_test)))"
      ],
      "execution_count": null,
      "outputs": [
        {
          "output_type": "stream",
          "text": [
            "Confusion Matrix: \n",
            " [[36  0  0  0  0  0  0  0  0  0]\n",
            " [ 0 35  0  0  0  0  0  0  0  0]\n",
            " [ 0  0 38  0  0  0  0  0  0  0]\n",
            " [ 0  0  0 35  0  1  0  0  1  0]\n",
            " [ 0  1  0  0 27  0  0  0  0  0]\n",
            " [ 0  0  0  0  0 35  0  0  0  1]\n",
            " [ 0  0  0  0  0  0 37  0  0  0]\n",
            " [ 0  0  2  0  0  0  0 37  0  0]\n",
            " [ 0  0  0  0  0  0  0  0 35  0]\n",
            " [ 0  0  0  1  0  1  0  2  0 35]]\n"
          ],
          "name": "stdout"
        }
      ]
    },
    {
      "cell_type": "code",
      "metadata": {
        "id": "CYFtYHsikIax",
        "outputId": "0c4645b6-5499-4d3e-dcad-12cb823f18ec",
        "colab": {
          "base_uri": "https://localhost:8080/",
          "height": 296
        }
      },
      "source": [
        "import seaborn as sns\n",
        "\n",
        "mat = confusion_matrix(y_test, grid_svm.best_estimator_.predict(X_test))\n",
        "sns.heatmap(mat, square=True, annot=True, fmt='d', cbar=False, \n",
        "            xticklabels=[0,1,2,3,4,5,6,7,8,9], yticklabels=[0,1,2,3,4,5,6,7,8,9])\n",
        "plt.xlabel('True Label')\n",
        "plt.ylabel('Predicted Label')"
      ],
      "execution_count": null,
      "outputs": [
        {
          "output_type": "execute_result",
          "data": {
            "text/plain": [
              "Text(91.68, 0.5, 'Predicted Label')"
            ]
          },
          "metadata": {
            "tags": []
          },
          "execution_count": 61
        },
        {
          "output_type": "display_data",
          "data": {
            "image/png": "[encoded data removed]",
            "text/plain": [
              "<Figure size 432x288 with 1 Axes>"
            ]
          },
          "metadata": {
            "tags": [],
            "needs_background": "light"
          }
        }
      ]
    },
    {
      "cell_type": "markdown",
      "metadata": {
        "id": "wQOoXjhR-1Fh"
      },
      "source": [
        "## Compute the mean and standard deviation of the best SVM model accuracy for 1000 times:"
      ]
    },
    {
      "cell_type": "code",
      "metadata": {
        "id": "3ixV963_-2Iz",
        "outputId": "d33f6981-8fb4-4f83-eeae-f49d86e1e21e",
        "colab": {
          "base_uri": "https://localhost:8080/",
          "height": 51
        }
      },
      "source": [
        "test_svm_acc = []\n",
        "\n",
        "for i in range(1000):\n",
        "    #split test and train data\n",
        "    X_train, X_test, y_train, y_test = train_test_split(X, y, test_size=0.2)\n",
        "    \n",
        "    #Fit model on training data\n",
        "    grid_svm.best_estimator_.fit(X_train, y_train)\n",
        "    \n",
        "    # Evaluate model on test data\n",
        "    acc = grid_svm.best_estimator_.score(X_test, y_test)\n",
        "    test_svm_acc += [acc]\n",
        "\n",
        "print(\"Mean Test Accuracy:{:.2f}\".format(np.mean(test_svm_acc)))\n",
        "print(\"standard deviation Test Accuracy:{:.2f}\".format(np.std(test_svm_acc)))\n"
      ],
      "execution_count": null,
      "outputs": [
        {
          "output_type": "stream",
          "text": [
            "Mean Test Accuracy:0.98\n",
            "standard deviation Test Accuracy:0.01\n"
          ],
          "name": "stdout"
        }
      ]
    },
    {
      "cell_type": "markdown",
      "metadata": {
        "id": "In0B9ygrO4zF"
      },
      "source": [
        "# 1)c:The parameter ccp_alpha (max_depth) in decision tree. "
      ]
    },
    {
      "cell_type": "code",
      "metadata": {
        "id": "Rt3TYSZ2ip3D"
      },
      "source": [
        "from sklearn.tree import DecisionTreeClassifier\n",
        "tree = DecisionTreeClassifier()"
      ],
      "execution_count": null,
      "outputs": []
    },
    {
      "cell_type": "code",
      "metadata": {
        "id": "990yfNofP7-F"
      },
      "source": [
        "#Create hyperparameters space\n",
        "param_grid_Dtree=[{'max_depth': range(1,10),\n",
        "                   'ccp_alpha':[0.0,0.01]}]"
      ],
      "execution_count": null,
      "outputs": []
    },
    {
      "cell_type": "code",
      "metadata": {
        "id": "wR7j_Iom31Ug",
        "outputId": "933c9f44-f779-4993-f0b4-9867e6ce33cb",
        "colab": {
          "base_uri": "https://localhost:8080/",
          "height": 68
        }
      },
      "source": [
        "#Scaled code\n",
        "from sklearn.tree import DecisionTreeClassifier\n",
        "from sklearn.preprocessing import StandardScaler\n",
        "from sklearn.pipeline import Pipeline\n",
        "pipe = Pipeline([(\"scaler\", StandardScaler()), (\"tree\", DecisionTreeClassifier())])\n",
        "param_grid_Dtree=[{'tree__max_depth': range(1,10)}]\n",
        "\n",
        "pipe.fit(X_train, y_train)\n",
        "grid_t = GridSearchCV(estimator=pipe, param_grid=param_grid_Dtree, cv=10)\n",
        "grid_t.fit(X_train, y_train)\n",
        "print(\"Best parameters: {}\".format(grid_t.best_params_))\n",
        "print(\"Best cross-validation accuracy: {:.2f}\".format(grid_t.best_score_))\n",
        "print(\"Test set score: {:.2f}\".format(grid_t.score(X_test, y_test)))"
      ],
      "execution_count": null,
      "outputs": [
        {
          "output_type": "stream",
          "text": [
            "Best parameters: {'tree__max_depth': 9}\n",
            "Best cross-validation accuracy: 0.84\n",
            "Test set score: 0.84\n"
          ],
          "name": "stdout"
        }
      ]
    },
    {
      "cell_type": "code",
      "metadata": {
        "id": "VLqOObWEQy0O",
        "outputId": "341bca17-9b0e-43df-8dc4-36b27a8b927a",
        "colab": {
          "base_uri": "https://localhost:8080/",
          "height": 306
        }
      },
      "source": [
        "# Create grid search\n",
        "grid_Dtree = GridSearchCV(estimator=tree, param_grid=param_grid_Dtree, scoring='accuracy',cv=10)\n",
        "grid_Dtree.fit(X_train, y_train)"
      ],
      "execution_count": null,
      "outputs": [
        {
          "output_type": "execute_result",
          "data": {
            "text/plain": [
              "GridSearchCV(cv=10, error_score=nan,\n",
              "             estimator=DecisionTreeClassifier(ccp_alpha=0.0, class_weight=None,\n",
              "                                              criterion='gini', max_depth=None,\n",
              "                                              max_features=None,\n",
              "                                              max_leaf_nodes=None,\n",
              "                                              min_impurity_decrease=0.0,\n",
              "                                              min_impurity_split=None,\n",
              "                                              min_samples_leaf=1,\n",
              "                                              min_samples_split=2,\n",
              "                                              min_weight_fraction_leaf=0.0,\n",
              "                                              presort='deprecated',\n",
              "                                              random_state=None,\n",
              "                                              splitter='best'),\n",
              "             iid='deprecated', n_jobs=None,\n",
              "             param_grid=[{'ccp_alpha': [0.0, 0.01], 'max_depth': range(1, 10)}],\n",
              "             pre_dispatch='2*n_jobs', refit=True, return_train_score=False,\n",
              "             scoring='accuracy', verbose=0)"
            ]
          },
          "metadata": {
            "tags": []
          },
          "execution_count": 18
        }
      ]
    },
    {
      "cell_type": "markdown",
      "metadata": {
        "id": "QB1UTIBwf4vk"
      },
      "source": [
        "### Finding the best hyperparameters:"
      ]
    },
    {
      "cell_type": "code",
      "metadata": {
        "id": "prXmg49Hcc1E",
        "outputId": "47de6611-9507-4259-ad9f-e04750fc9b6c",
        "colab": {
          "base_uri": "https://localhost:8080/",
          "height": 34
        }
      },
      "source": [
        "print(\"Best parameters: {}\".format(grid_Dtree.best_params_))"
      ],
      "execution_count": null,
      "outputs": [
        {
          "output_type": "stream",
          "text": [
            "Best parameters: {'ccp_alpha': 0.0, 'max_depth': 9}\n"
          ],
          "name": "stdout"
        }
      ]
    },
    {
      "cell_type": "markdown",
      "metadata": {
        "id": "tMrr7jrU3HvB"
      },
      "source": [
        "### Evaluating cross validation accuracy:"
      ]
    },
    {
      "cell_type": "code",
      "metadata": {
        "id": "7MjXt2hz3IC5",
        "outputId": "24c8aee3-c36e-4a5f-e08a-e954467c7b77",
        "colab": {
          "base_uri": "https://localhost:8080/",
          "height": 51
        }
      },
      "source": [
        "print(\"Best cross-validation accuracy: {:.2f}\".format(grid_Dtree.best_score_))\n",
        "print(\"Test set score: {:.2f}\".format(grid_Dtree.score(X_test, y_test)))"
      ],
      "execution_count": null,
      "outputs": [
        {
          "output_type": "stream",
          "text": [
            "Best cross-validation accuracy: 0.84\n",
            "Test set score: 0.86\n"
          ],
          "name": "stdout"
        }
      ]
    },
    {
      "cell_type": "markdown",
      "metadata": {
        "id": "sijdbhIVhO_u"
      },
      "source": [
        "### Fitting the best parameter:"
      ]
    },
    {
      "cell_type": "code",
      "metadata": {
        "id": "Wpp6abHfVtn8",
        "outputId": "94c8bc39-565f-4737-8586-5e757cea2a34",
        "colab": {
          "base_uri": "https://localhost:8080/",
          "height": 119
        }
      },
      "source": [
        "grid_Dtree.best_estimator_.fit(X_train, y_train)"
      ],
      "execution_count": null,
      "outputs": [
        {
          "output_type": "execute_result",
          "data": {
            "text/plain": [
              "DecisionTreeClassifier(ccp_alpha=0.0, class_weight=None, criterion='gini',\n",
              "                       max_depth=9, max_features=None, max_leaf_nodes=None,\n",
              "                       min_impurity_decrease=0.0, min_impurity_split=None,\n",
              "                       min_samples_leaf=1, min_samples_split=2,\n",
              "                       min_weight_fraction_leaf=0.0, presort='deprecated',\n",
              "                       random_state=None, splitter='best')"
            ]
          },
          "metadata": {
            "tags": []
          },
          "execution_count": 22
        }
      ]
    },
    {
      "cell_type": "markdown",
      "metadata": {
        "id": "lNs0wfAghVYG"
      },
      "source": [
        "### Evaluating Model Performance:"
      ]
    },
    {
      "cell_type": "code",
      "metadata": {
        "id": "kxidEpOVdP4v",
        "outputId": "cf563d76-2b7e-43b0-a7be-c3b0baaaadcd",
        "colab": {
          "base_uri": "https://localhost:8080/",
          "height": 34
        }
      },
      "source": [
        "print(\"Test set score: {:.2f}\".format(grid_Dtree.best_estimator_.score(X_test, y_test)))"
      ],
      "execution_count": null,
      "outputs": [
        {
          "output_type": "stream",
          "text": [
            "Test set score: 0.84\n"
          ],
          "name": "stdout"
        }
      ]
    },
    {
      "cell_type": "code",
      "metadata": {
        "id": "uokfyFq_dP40",
        "outputId": "b1279398-aab7-4a09-bde6-6062eacaa8d2",
        "colab": {
          "base_uri": "https://localhost:8080/",
          "height": 204
        }
      },
      "source": [
        "from sklearn.metrics import confusion_matrix\n",
        "print('Confusion Matrix:','\\n',confusion_matrix(y_test,grid_Dtree.best_estimator_.predict(X_test)))"
      ],
      "execution_count": null,
      "outputs": [
        {
          "output_type": "stream",
          "text": [
            "Confusion Matrix: \n",
            " [[30  0  0  0  0  0  1  0  0  0]\n",
            " [ 0 31  0  1  2  0  0  0  3  1]\n",
            " [ 1  0 33  0  0  1  0  0  0  1]\n",
            " [ 0  0  1 21  0  0  0  1  1  3]\n",
            " [ 1  1  0  1 31  1  0  2  0  0]\n",
            " [ 0  0  0  2  1 32  2  0  0  1]\n",
            " [ 1  0  0  0  1  1 32  0  0  0]\n",
            " [ 0  0  3  1  3  0  0 33  1  1]\n",
            " [ 0  1  2  3  0  0  0  0 27  1]\n",
            " [ 0  1  2  1  3  0  0  1  0 34]]\n"
          ],
          "name": "stdout"
        }
      ]
    },
    {
      "cell_type": "markdown",
      "metadata": {
        "id": "LYlWwmAbHcBV"
      },
      "source": [
        "## Compute the mean and standard deviation of the best Decision Tree model accuracy for 1000 times:"
      ]
    },
    {
      "cell_type": "code",
      "metadata": {
        "id": "myOB-FXLHcBY",
        "outputId": "0c28ba95-2a2b-43f6-9bdd-5288ced8a857",
        "colab": {
          "base_uri": "https://localhost:8080/",
          "height": 51
        }
      },
      "source": [
        "test_dt_acc = []\n",
        "\n",
        "for i in range(1000):\n",
        "    #split test and train data\n",
        "    X_train, X_test, y_train, y_test = train_test_split(X, y, test_size=0.2)\n",
        "\n",
        "    #Fit model on training data\n",
        "    grid_Dtree.best_estimator_.fit(X_train, y_train)\n",
        "    \n",
        "    # Evaluate model on test data\n",
        "    acc = grid_Dtree.best_estimator_.score(X_test, y_test)\n",
        "    test_dt_acc += [acc]\n",
        "\n",
        "print(\"Mean Test Accuracy:{:.2f}\".format(np.mean(test_dt_acc)))\n",
        "print(\"standard deviation Test Accuracy:{:.2f}\".format(np.std(test_dt_acc)))\n"
      ],
      "execution_count": null,
      "outputs": [
        {
          "output_type": "stream",
          "text": [
            "Mean Test Accuracy:0.85\n",
            "standard deviation Test Accuracy:0.02\n"
          ],
          "name": "stdout"
        }
      ]
    },
    {
      "cell_type": "markdown",
      "metadata": {
        "id": "q7YstQW4htaq"
      },
      "source": [
        "# 1)d:Number of estimators for bagging. You can use the best tree obtained from part c as your base estimator."
      ]
    },
    {
      "cell_type": "code",
      "metadata": {
        "id": "96sFdIFImOTm"
      },
      "source": [
        "from sklearn.ensemble import BaggingClassifier\n",
        "bag=BaggingClassifier(base_estimator=tree)"
      ],
      "execution_count": null,
      "outputs": []
    },
    {
      "cell_type": "code",
      "metadata": {
        "id": "7181WZzTm16D"
      },
      "source": [
        "#Create hyperparameters space\n",
        "param_grid_bag=[{'n_estimators': [10, 20, 30, 40, 50, 60, 70,80, 90, 100]}]"
      ],
      "execution_count": null,
      "outputs": []
    },
    {
      "cell_type": "code",
      "metadata": {
        "id": "9dz7AIK3m16I",
        "outputId": "a5fb359e-cb6e-44dd-d467-154fb70f5b45",
        "colab": {
          "base_uri": "https://localhost:8080/",
          "height": 459
        }
      },
      "source": [
        "# Create grid search\n",
        "grid_bag = GridSearchCV(estimator=bag, param_grid=param_grid_bag, scoring='accuracy',cv=10)\n",
        "grid_bag.fit(X_train, y_train)"
      ],
      "execution_count": null,
      "outputs": [
        {
          "output_type": "execute_result",
          "data": {
            "text/plain": [
              "GridSearchCV(cv=10, error_score=nan,\n",
              "             estimator=BaggingClassifier(base_estimator=DecisionTreeClassifier(ccp_alpha=0.0,\n",
              "                                                                               class_weight=None,\n",
              "                                                                               criterion='gini',\n",
              "                                                                               max_depth=None,\n",
              "                                                                               max_features=None,\n",
              "                                                                               max_leaf_nodes=None,\n",
              "                                                                               min_impurity_decrease=0.0,\n",
              "                                                                               min_impurity_split=None,\n",
              "                                                                               min_samples_leaf=1,\n",
              "                                                                               min_samples_split=2,\n",
              "                                                                               min_weight_fraction_leaf=0.0,\n",
              "                                                                               presort='deprecated',\n",
              "                                                                               random_s...\n",
              "                                                                               splitter='best'),\n",
              "                                         bootstrap=True,\n",
              "                                         bootstrap_features=False,\n",
              "                                         max_features=1.0, max_samples=1.0,\n",
              "                                         n_estimators=10, n_jobs=None,\n",
              "                                         oob_score=False, random_state=None,\n",
              "                                         verbose=0, warm_start=False),\n",
              "             iid='deprecated', n_jobs=None,\n",
              "             param_grid=[{'n_estimators': [10, 20, 30, 40, 50, 60, 70, 80, 90,\n",
              "                                           100]}],\n",
              "             pre_dispatch='2*n_jobs', refit=True, return_train_score=False,\n",
              "             scoring='accuracy', verbose=0)"
            ]
          },
          "metadata": {
            "tags": []
          },
          "execution_count": 23
        }
      ]
    },
    {
      "cell_type": "markdown",
      "metadata": {
        "id": "_BFy2ljWpY57"
      },
      "source": [
        "### Finding the best hyperparameters:"
      ]
    },
    {
      "cell_type": "code",
      "metadata": {
        "id": "MRHan584mmvu",
        "outputId": "70209c16-91ef-4b14-fcc9-c06952b5e90c",
        "colab": {
          "base_uri": "https://localhost:8080/",
          "height": 34
        }
      },
      "source": [
        "print(\"Best parameters: {}\".format(grid_bag.best_params_))"
      ],
      "execution_count": null,
      "outputs": [
        {
          "output_type": "stream",
          "text": [
            "Best parameters: {'n_estimators': 70}\n"
          ],
          "name": "stdout"
        }
      ]
    },
    {
      "cell_type": "markdown",
      "metadata": {
        "id": "zCHOTfVL5gaB"
      },
      "source": [
        "### Evaluating cross validation accuracy:"
      ]
    },
    {
      "cell_type": "code",
      "metadata": {
        "id": "7S0rY8Z25gt1",
        "outputId": "55aad9af-de6b-4949-89d9-e235531e1438",
        "colab": {
          "base_uri": "https://localhost:8080/",
          "height": 51
        }
      },
      "source": [
        "print(\"Best cross-validation accuracy: {:.2f}\".format(grid_bag.best_score_))\n",
        "print(\"Test set score: {:.2f}\".format(grid_bag.score(X_test, y_test)))"
      ],
      "execution_count": null,
      "outputs": [
        {
          "output_type": "stream",
          "text": [
            "Best cross-validation accuracy: 0.95\n",
            "Test set score: 0.96\n"
          ],
          "name": "stdout"
        }
      ]
    },
    {
      "cell_type": "markdown",
      "metadata": {
        "id": "_HVrt3TKmmv0"
      },
      "source": [
        "### Fitting the best parameter:"
      ]
    },
    {
      "cell_type": "code",
      "metadata": {
        "id": "EhW_N_qfmmv1",
        "outputId": "ea81b271-9137-4391-bc9b-3c9ba0521f3f",
        "colab": {
          "base_uri": "https://localhost:8080/",
          "height": 323
        }
      },
      "source": [
        "grid_bag.best_estimator_.fit(X_train, y_train)"
      ],
      "execution_count": null,
      "outputs": [
        {
          "output_type": "execute_result",
          "data": {
            "text/plain": [
              "BaggingClassifier(base_estimator=DecisionTreeClassifier(ccp_alpha=0.0,\n",
              "                                                        class_weight=None,\n",
              "                                                        criterion='gini',\n",
              "                                                        max_depth=None,\n",
              "                                                        max_features=None,\n",
              "                                                        max_leaf_nodes=None,\n",
              "                                                        min_impurity_decrease=0.0,\n",
              "                                                        min_impurity_split=None,\n",
              "                                                        min_samples_leaf=1,\n",
              "                                                        min_samples_split=2,\n",
              "                                                        min_weight_fraction_leaf=0.0,\n",
              "                                                        presort='deprecated',\n",
              "                                                        random_state=None,\n",
              "                                                        splitter='best'),\n",
              "                  bootstrap=True, bootstrap_features=False, max_features=1.0,\n",
              "                  max_samples=1.0, n_estimators=70, n_jobs=None,\n",
              "                  oob_score=False, random_state=None, verbose=0,\n",
              "                  warm_start=False)"
            ]
          },
          "metadata": {
            "tags": []
          },
          "execution_count": 26
        }
      ]
    },
    {
      "cell_type": "markdown",
      "metadata": {
        "id": "uhqAOrkuorzX"
      },
      "source": [
        "### Evaluating Model Performance:"
      ]
    },
    {
      "cell_type": "code",
      "metadata": {
        "id": "waNXlyTxp83k",
        "outputId": "56c9122b-0490-47d6-84e6-954a3f729e79",
        "colab": {
          "base_uri": "https://localhost:8080/",
          "height": 34
        }
      },
      "source": [
        "print(\"Test set score: {:.2f}\".format(grid_bag.best_estimator_.score(X_test, y_test)))"
      ],
      "execution_count": null,
      "outputs": [
        {
          "output_type": "stream",
          "text": [
            "Test set score: 0.96\n"
          ],
          "name": "stdout"
        }
      ]
    },
    {
      "cell_type": "code",
      "metadata": {
        "id": "3R-ZZ-C7p83q",
        "outputId": "111f0b72-5437-40f2-9456-743116c1209c",
        "colab": {
          "base_uri": "https://localhost:8080/",
          "height": 204
        }
      },
      "source": [
        "from sklearn.metrics import confusion_matrix\n",
        "print('Confusion Matrix:','\\n',confusion_matrix(y_test,grid_bag.best_estimator_.predict(X_test)))"
      ],
      "execution_count": null,
      "outputs": [
        {
          "output_type": "stream",
          "text": [
            "Confusion Matrix: \n",
            " [[34  0  0  0  0  0  0  0  1  0]\n",
            " [ 0 36  0  0  0  0  0  0  1  0]\n",
            " [ 0  0 36  0  0  0  0  1  0  0]\n",
            " [ 0  0  0 38  0  1  0  0  0  2]\n",
            " [ 0  0  0  0 38  0  0  0  0  0]\n",
            " [ 0  0  0  1  1 32  0  0  0  0]\n",
            " [ 0  1  0  0  1  0 32  0  1  0]\n",
            " [ 0  0  0  0  0  0  0 36  0  0]\n",
            " [ 0  1  1  0  0  0  0  0 26  0]\n",
            " [ 0  0  0  0  0  0  0  1  1 37]]\n"
          ],
          "name": "stdout"
        }
      ]
    },
    {
      "cell_type": "markdown",
      "metadata": {
        "id": "HbT0h6iYbaEy"
      },
      "source": [
        "### Compute the mean and standard deviation of the best Bagging model accuracy for 1000 times:"
      ]
    },
    {
      "cell_type": "code",
      "metadata": {
        "id": "OkWQJPN7baE0",
        "outputId": "ef04ad2a-3d0a-4223-afd6-0b0c005b4207",
        "colab": {
          "base_uri": "https://localhost:8080/",
          "height": 51
        }
      },
      "source": [
        "test_bag_acc = []\n",
        "count=0\n",
        "\n",
        "for i in range(1000):\n",
        "    count=count+1\n",
        "    #split test and train data\n",
        "    X_train, X_test, y_train, y_test = train_test_split(X, y, test_size=0.2)\n",
        "\n",
        "    #Fit model on training data\n",
        "    grid_bag.best_estimator_.fit(X_train, y_train)\n",
        "\n",
        "    # Evaluate model on test data\n",
        "    acc = grid_bag.best_estimator_.score(X_test, y_test)\n",
        "    test_bag_acc += [acc]\n",
        "\n",
        "print(\"Mean Test Accuracy:{:.2f}\".format(np.mean(test_bag_acc)))\n",
        "print(\"standard deviation Test Accuracy:{:.2f}\".format(np.std(test_bag_acc)))\n"
      ],
      "execution_count": null,
      "outputs": [
        {
          "output_type": "stream",
          "text": [
            "Mean Test Accuracy:0.95\n",
            "standard deviation Test Accuracy:0.01\n"
          ],
          "name": "stdout"
        }
      ]
    },
    {
      "cell_type": "markdown",
      "metadata": {
        "id": "t888nTE3qRMj"
      },
      "source": [
        "## 1)e: Number of estimators (M in slides) for boosting. You can use the best tree obtained from part c as your base estimator."
      ]
    },
    {
      "cell_type": "code",
      "metadata": {
        "id": "yxRC6OeRqpvu"
      },
      "source": [
        "from sklearn.ensemble import AdaBoostClassifier\n",
        "boost = AdaBoostClassifier(base_estimator=tree)"
      ],
      "execution_count": null,
      "outputs": []
    },
    {
      "cell_type": "code",
      "metadata": {
        "id": "um9lg-H0rkrh"
      },
      "source": [
        "#Create hyperparameters space\n",
        "param_grid_boost=[{'n_estimators': [10, 20, 30, 40, 50, 60, 70,80, 90, 100]}]"
      ],
      "execution_count": null,
      "outputs": []
    },
    {
      "cell_type": "code",
      "metadata": {
        "id": "Rok84fZZrkrp",
        "outputId": "cb0fd24c-9a87-4e96-f70c-a4194252b029",
        "colab": {
          "base_uri": "https://localhost:8080/",
          "height": 408
        }
      },
      "source": [
        "# Create grid search\n",
        "grid_boost = GridSearchCV(estimator=boost, param_grid=param_grid_boost, scoring='accuracy',cv=10)\n",
        "grid_boost.fit(X_train, y_train)"
      ],
      "execution_count": null,
      "outputs": [
        {
          "output_type": "execute_result",
          "data": {
            "text/plain": [
              "GridSearchCV(cv=10, error_score=nan,\n",
              "             estimator=AdaBoostClassifier(algorithm='SAMME.R',\n",
              "                                          base_estimator=DecisionTreeClassifier(ccp_alpha=0.0,\n",
              "                                                                                class_weight=None,\n",
              "                                                                                criterion='gini',\n",
              "                                                                                max_depth=None,\n",
              "                                                                                max_features=None,\n",
              "                                                                                max_leaf_nodes=None,\n",
              "                                                                                min_impurity_decrease=0.0,\n",
              "                                                                                min_impurity_split=None,\n",
              "                                                                                min_samples_leaf=1,\n",
              "                                                                                min_samples_split=2,\n",
              "                                                                                min_weight_fraction_leaf=0.0,\n",
              "                                                                                presort='deprecated',\n",
              "                                                                                random_state=None,\n",
              "                                                                                splitter='best'),\n",
              "                                          learning_rate=1.0, n_estimators=50,\n",
              "                                          random_state=None),\n",
              "             iid='deprecated', n_jobs=None,\n",
              "             param_grid=[{'n_estimators': [10, 20, 30, 40, 50, 60, 70, 80, 90,\n",
              "                                           100]}],\n",
              "             pre_dispatch='2*n_jobs', refit=True, return_train_score=False,\n",
              "             scoring='accuracy', verbose=0)"
            ]
          },
          "metadata": {
            "tags": []
          },
          "execution_count": 33
        }
      ]
    },
    {
      "cell_type": "markdown",
      "metadata": {
        "id": "s74whQhIrcHz"
      },
      "source": [
        "### Find the best hyperparameters:"
      ]
    },
    {
      "cell_type": "code",
      "metadata": {
        "id": "OhN0uXyssCqI",
        "outputId": "41f33adc-0b81-4f77-eb4d-c0381ca6244a",
        "colab": {
          "base_uri": "https://localhost:8080/",
          "height": 34
        }
      },
      "source": [
        "print(\"Best parameters: {}\".format(grid_boost.best_params_))"
      ],
      "execution_count": null,
      "outputs": [
        {
          "output_type": "stream",
          "text": [
            "Best parameters: {'n_estimators': 10}\n"
          ],
          "name": "stdout"
        }
      ]
    },
    {
      "cell_type": "markdown",
      "metadata": {
        "id": "zK2r-ytP66L7"
      },
      "source": [
        "### Evaluating cross validation accuracy"
      ]
    },
    {
      "cell_type": "code",
      "metadata": {
        "id": "fmNv1bID66ZG",
        "outputId": "909f4400-eb15-498c-de4c-824c05f85884",
        "colab": {
          "base_uri": "https://localhost:8080/",
          "height": 51
        }
      },
      "source": [
        "print(\"Best cross-validation accuracy: {:.2f}\".format(grid_boost.best_score_))\n",
        "print(\"Test set score: {:.2f}\".format(grid_boost.score(X_test, y_test)))"
      ],
      "execution_count": null,
      "outputs": [
        {
          "output_type": "stream",
          "text": [
            "Best cross-validation accuracy: 0.86\n",
            "Test set score: 0.81\n"
          ],
          "name": "stdout"
        }
      ]
    },
    {
      "cell_type": "markdown",
      "metadata": {
        "id": "XIMkLWjgsHhZ"
      },
      "source": [
        "### Fitting the best parameter:"
      ]
    },
    {
      "cell_type": "code",
      "metadata": {
        "id": "aK47odr7sHha",
        "outputId": "2a716226-317f-466b-f614-4baabbc99613",
        "colab": {
          "base_uri": "https://localhost:8080/",
          "height": 289
        }
      },
      "source": [
        "grid_boost.best_estimator_.fit(X_train, y_train)"
      ],
      "execution_count": null,
      "outputs": [
        {
          "output_type": "execute_result",
          "data": {
            "text/plain": [
              "AdaBoostClassifier(algorithm='SAMME.R',\n",
              "                   base_estimator=DecisionTreeClassifier(ccp_alpha=0.0,\n",
              "                                                         class_weight=None,\n",
              "                                                         criterion='gini',\n",
              "                                                         max_depth=None,\n",
              "                                                         max_features=None,\n",
              "                                                         max_leaf_nodes=None,\n",
              "                                                         min_impurity_decrease=0.0,\n",
              "                                                         min_impurity_split=None,\n",
              "                                                         min_samples_leaf=1,\n",
              "                                                         min_samples_split=2,\n",
              "                                                         min_weight_fraction_leaf=0.0,\n",
              "                                                         presort='deprecated',\n",
              "                                                         random_state=None,\n",
              "                                                         splitter='best'),\n",
              "                   learning_rate=1.0, n_estimators=30, random_state=None)"
            ]
          },
          "metadata": {
            "tags": []
          },
          "execution_count": 34
        }
      ]
    },
    {
      "cell_type": "markdown",
      "metadata": {
        "id": "QgU6CDjStRpK"
      },
      "source": [
        "### Evaluating Model Performance:"
      ]
    },
    {
      "cell_type": "code",
      "metadata": {
        "id": "YNK0_A8LsiYb",
        "outputId": "6ea2c4e3-821c-453d-c0e0-2e6ab44c0202",
        "colab": {
          "base_uri": "https://localhost:8080/",
          "height": 34
        }
      },
      "source": [
        "print(\"Test set score: {:.2f}\".format(grid_boost.best_estimator_.score(X_test, y_test)))"
      ],
      "execution_count": null,
      "outputs": [
        {
          "output_type": "stream",
          "text": [
            "Test set score: 0.86\n"
          ],
          "name": "stdout"
        }
      ]
    },
    {
      "cell_type": "code",
      "metadata": {
        "id": "QEU7IwBDsiYf",
        "outputId": "a7efd8bc-67d8-493d-a3c0-32c99546cd12",
        "colab": {
          "base_uri": "https://localhost:8080/",
          "height": 204
        }
      },
      "source": [
        "from sklearn.metrics import confusion_matrix\n",
        "print('Confusion Matrix:','\\n',confusion_matrix(y_test,grid_boost.best_estimator_.predict(X_test)))"
      ],
      "execution_count": null,
      "outputs": [
        {
          "output_type": "stream",
          "text": [
            "Confusion Matrix: \n",
            " [[28  0  0  0  0  2  0  0  0  0]\n",
            " [ 0 33  0  0  1  0  0  1  3  1]\n",
            " [ 0  0 40  0  0  0  0  1  3  1]\n",
            " [ 0  1  0 32  1  0  1  1  1  2]\n",
            " [ 0  0  0  0 35  1  1  1  1  0]\n",
            " [ 0  0  1  1  0 25  0  0  0  0]\n",
            " [ 2  0  0  0  0  0 29  1  0  0]\n",
            " [ 0  0  0  0  0  0  0 30  1  0]\n",
            " [ 2  1  1  1  0  2  0  1 27  4]\n",
            " [ 1  2  2  1  0  0  0  2  1 30]]\n"
          ],
          "name": "stdout"
        }
      ]
    },
    {
      "cell_type": "markdown",
      "metadata": {
        "id": "ltNfad-0cOFn"
      },
      "source": [
        "## Compute the mean and standard deviation of the best Boosting model accuracy for 1000 times:"
      ]
    },
    {
      "cell_type": "code",
      "metadata": {
        "id": "ddFyrtcXcOFp",
        "outputId": "84a102e6-a1c8-4d5f-d879-0941f8116dad",
        "colab": {
          "base_uri": "https://localhost:8080/",
          "height": 51
        }
      },
      "source": [
        "test_ada_acc = []\n",
        "\n",
        "for i in range(1000):\n",
        "    #split test and train data\n",
        "    X_train, X_test, y_train, y_test = train_test_split(X, y, test_size=0.2)\n",
        "    \n",
        "    #Fit model on training data\n",
        "    grid_boost.best_estimator_.fit(X_train, y_train)\n",
        "    \n",
        "    # Evaluate model on test data\n",
        "    acc = grid_boost.best_estimator_.score(X_test, y_test)\n",
        "    test_ada_acc += [acc]\n",
        "\n",
        "print(\"Mean Test Accuracy:{:.2f}\".format(np.mean(test_ada_acc)))\n",
        "print(\"standard deviation Test Accuracy:{:.2f}\".format(np.std(test_ada_acc)))\n"
      ],
      "execution_count": null,
      "outputs": [
        {
          "output_type": "stream",
          "text": [
            "Mean Test Accuracy:0.85\n",
            "standard deviation Test Accuracy:0.02\n"
          ],
          "name": "stdout"
        }
      ]
    },
    {
      "cell_type": "markdown",
      "metadata": {
        "id": "tY_ZOSCsSz2r"
      },
      "source": [
        "# 1)f: Number of estimators and max_depth and n_estimators in random forest."
      ]
    },
    {
      "cell_type": "code",
      "metadata": {
        "id": "8CBNmA73temj"
      },
      "source": [
        "from sklearn.ensemble import RandomForestClassifier\n",
        "randomf = RandomForestClassifier()"
      ],
      "execution_count": null,
      "outputs": []
    },
    {
      "cell_type": "code",
      "metadata": {
        "id": "Mb0bq3NWOE45"
      },
      "source": [
        "#Create hyperparameters space\n",
        "param_grid_forest=[{'n_estimators': [10, 20, 30, 40, 50, 60, 70,80, 90, 100],\n",
        "                   'max_depth': range(1,10)}]"
      ],
      "execution_count": null,
      "outputs": []
    },
    {
      "cell_type": "code",
      "metadata": {
        "id": "1jay_PXoOE5A",
        "outputId": "e0c523b5-7d51-4a8d-8ade-f5734bff973f",
        "colab": {
          "base_uri": "https://localhost:8080/",
          "height": 391
        }
      },
      "source": [
        "# Create grid search\n",
        "grid_forest = GridSearchCV(estimator=randomf, param_grid=param_grid_forest, scoring='accuracy',cv=10)\n",
        "grid_forest.fit(X_train, y_train)"
      ],
      "execution_count": null,
      "outputs": [
        {
          "output_type": "execute_result",
          "data": {
            "text/plain": [
              "GridSearchCV(cv=10, error_score=nan,\n",
              "             estimator=RandomForestClassifier(bootstrap=True, ccp_alpha=0.0,\n",
              "                                              class_weight=None,\n",
              "                                              criterion='gini', max_depth=None,\n",
              "                                              max_features='auto',\n",
              "                                              max_leaf_nodes=None,\n",
              "                                              max_samples=None,\n",
              "                                              min_impurity_decrease=0.0,\n",
              "                                              min_impurity_split=None,\n",
              "                                              min_samples_leaf=1,\n",
              "                                              min_samples_split=2,\n",
              "                                              min_weight_fraction_leaf=0.0,\n",
              "                                              n_estimators=100, n_jobs=None,\n",
              "                                              oob_score=False,\n",
              "                                              random_state=None, verbose=0,\n",
              "                                              warm_start=False),\n",
              "             iid='deprecated', n_jobs=None,\n",
              "             param_grid=[{'max_depth': range(1, 10),\n",
              "                          'n_estimators': [10, 20, 30, 40, 50, 60, 70, 80, 90,\n",
              "                                           100]}],\n",
              "             pre_dispatch='2*n_jobs', refit=True, return_train_score=False,\n",
              "             scoring='accuracy', verbose=0)"
            ]
          },
          "metadata": {
            "tags": []
          },
          "execution_count": 40
        }
      ]
    },
    {
      "cell_type": "markdown",
      "metadata": {
        "id": "RukaLfbSOMLu"
      },
      "source": [
        "### Finding the best hyperparameters:"
      ]
    },
    {
      "cell_type": "code",
      "metadata": {
        "id": "kf-k9oxDQ7uM",
        "outputId": "e0461487-4ed7-4f8b-bc21-cd947a066fd7",
        "colab": {
          "base_uri": "https://localhost:8080/",
          "height": 34
        }
      },
      "source": [
        "print(\"Best parameters: {}\".format(grid_forest.best_params_))"
      ],
      "execution_count": null,
      "outputs": [
        {
          "output_type": "stream",
          "text": [
            "Best parameters: {'max_depth': 9, 'n_estimators': 70}\n"
          ],
          "name": "stdout"
        }
      ]
    },
    {
      "cell_type": "markdown",
      "metadata": {
        "id": "machTYJ-7sDU"
      },
      "source": [
        "### Evaluating cross validation accuracy"
      ]
    },
    {
      "cell_type": "code",
      "metadata": {
        "id": "xctwI5mU7sSl",
        "outputId": "581b00e4-ea70-400e-a361-93e60c1024b8",
        "colab": {
          "base_uri": "https://localhost:8080/",
          "height": 51
        }
      },
      "source": [
        "print(\"Best cross-validation accuracy: {:.2f}\".format(grid_forest.best_score_))\n",
        "print(\"Test set score: {:.2f}\".format(grid_forest.score(X_test, y_test)))"
      ],
      "execution_count": null,
      "outputs": [
        {
          "output_type": "stream",
          "text": [
            "Best cross-validation accuracy: 0.98\n",
            "Test set score: 0.96\n"
          ],
          "name": "stdout"
        }
      ]
    },
    {
      "cell_type": "markdown",
      "metadata": {
        "id": "s37KmIJWRGN0"
      },
      "source": [
        "### Fitting the best parameter:"
      ]
    },
    {
      "cell_type": "code",
      "metadata": {
        "id": "JcOFPTGERGN1",
        "outputId": "1d6f640f-32e7-4145-a242-966380cc05c8",
        "colab": {
          "base_uri": "https://localhost:8080/",
          "height": 153
        }
      },
      "source": [
        "grid_forest.best_estimator_.fit(X_train, y_train)"
      ],
      "execution_count": null,
      "outputs": [
        {
          "output_type": "execute_result",
          "data": {
            "text/plain": [
              "RandomForestClassifier(bootstrap=True, ccp_alpha=0.0, class_weight=None,\n",
              "                       criterion='gini', max_depth=9, max_features='auto',\n",
              "                       max_leaf_nodes=None, max_samples=None,\n",
              "                       min_impurity_decrease=0.0, min_impurity_split=None,\n",
              "                       min_samples_leaf=1, min_samples_split=2,\n",
              "                       min_weight_fraction_leaf=0.0, n_estimators=70,\n",
              "                       n_jobs=None, oob_score=False, random_state=None,\n",
              "                       verbose=0, warm_start=False)"
            ]
          },
          "metadata": {
            "tags": []
          },
          "execution_count": 43
        }
      ]
    },
    {
      "cell_type": "markdown",
      "metadata": {
        "id": "M5pj_0BUR2dO"
      },
      "source": [
        "### Evaluating Model Performance:"
      ]
    },
    {
      "cell_type": "code",
      "metadata": {
        "id": "26qcL-_VSN6a",
        "outputId": "53a2fabf-82a1-46f7-de55-3d90bb73941e",
        "colab": {
          "base_uri": "https://localhost:8080/",
          "height": 34
        }
      },
      "source": [
        "print(\"Test set score: {:.2f}\".format(grid_forest.best_estimator_.score(X_test, y_test)))"
      ],
      "execution_count": null,
      "outputs": [
        {
          "output_type": "stream",
          "text": [
            "Test set score: 0.97\n"
          ],
          "name": "stdout"
        }
      ]
    },
    {
      "cell_type": "code",
      "metadata": {
        "id": "TYTf04rSSN6d",
        "outputId": "a05198b2-2c81-423c-e3c4-f03d9e374bdb",
        "colab": {
          "base_uri": "https://localhost:8080/",
          "height": 204
        }
      },
      "source": [
        "from sklearn.metrics import confusion_matrix\n",
        "print('Confusion Matrix:','\\n',confusion_matrix(y_test,grid_forest.best_estimator_.predict(X_test)))"
      ],
      "execution_count": null,
      "outputs": [
        {
          "output_type": "stream",
          "text": [
            "Confusion Matrix: \n",
            " [[36  0  0  0  0  0  0  0  1  0]\n",
            " [ 0 37  0  0  0  1  0  0  0  0]\n",
            " [ 1  0 35  0  0  0  0  0  0  0]\n",
            " [ 0  0  0 37  0  0  0  0  1  0]\n",
            " [ 0  0  0  0 30  0  0  1  0  0]\n",
            " [ 0  0  0  0  0 38  0  0  1  1]\n",
            " [ 0  0  0  0  0  0 41  0  1  0]\n",
            " [ 0  0  0  0  0  0  0 36  0  1]\n",
            " [ 0  1  0  0  0  0  0  0 29  1]\n",
            " [ 0  0  0  0  0  0  0  0  1 29]]\n"
          ],
          "name": "stdout"
        }
      ]
    },
    {
      "cell_type": "markdown",
      "metadata": {
        "id": "1IFYLij2dUPF"
      },
      "source": [
        "## Compute the mean and standard deviation of the best Random Forest model accuracy for 1000 times:"
      ]
    },
    {
      "cell_type": "code",
      "metadata": {
        "id": "HP4M4f41dUPH",
        "outputId": "ad8cc03a-9384-4dcb-b372-a6a5151f2ea2",
        "colab": {
          "base_uri": "https://localhost:8080/",
          "height": 51
        }
      },
      "source": [
        "test_randf_acc = []\n",
        "\n",
        "\n",
        "for i in range(1000):\n",
        "    #split test and train data\n",
        "    X_train, X_test, y_train, y_test = train_test_split(X, y, test_size=0.2)\n",
        "    \n",
        "    #Fit model on training data\n",
        "    grid_forest.best_estimator_.fit(X_train, y_train)\n",
        "\n",
        "    # Evaluate model on test data\n",
        "    acc = grid_forest.best_estimator_.score(X_test, y_test)\n",
        "    test_randf_acc += [acc]\n",
        "\n",
        "print(\"Mean Test Accuracy:{:.2f}\".format(np.mean(test_randf_acc)))\n",
        "print(\"standard deviation Test Accuracy:{:.2f}\".format(np.std(test_randf_acc)))\n"
      ],
      "execution_count": null,
      "outputs": [
        {
          "output_type": "stream",
          "text": [
            "Mean Test Accuracy:0.97\n",
            "standard deviation Test Accuracy:0.01\n"
          ],
          "name": "stdout"
        }
      ]
    }
  ]
}